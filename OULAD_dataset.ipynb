{
 "cells": [
  {
   "cell_type": "markdown",
   "metadata": {},
   "source": [
    "# OULAD DATASET\n",
    "Analyzed by: Grace Nam (graceen95@gmail.com)"
   ]
  },
  {
   "cell_type": "code",
   "execution_count": 1,
   "metadata": {},
   "outputs": [],
   "source": [
    "# import packages \n",
    "\n",
    "# computing/analysis\n",
    "import pandas as pd\n",
    "import numpy as np\n",
    "\n",
    "# data viz\n",
    "import seaborn as sns\n",
    "import matplotlib.pyplot as plt\n",
    "import matplotlib.patches as mpatches\n",
    "\n",
    "# machine learning\n",
    "from sklearn.linear_model import LogisticRegression\n",
    "from sklearn.tree import DecisionTreeClassifier\n",
    "from sklearn.model_selection import train_test_split, cross_val_score, ShuffleSplit, GridSearchCV\n",
    "from sklearn.preprocessing import MinMaxScaler, StandardScaler\n",
    "from sklearn import metrics\n",
    "from imblearn.over_sampling import SMOTE"
   ]
  },
  {
   "cell_type": "code",
   "execution_count": 2,
   "metadata": {},
   "outputs": [],
   "source": [
    "# import the datasets\n",
    "courses = pd.read_csv('anonymisedData/courses.csv')\n",
    "studentInfo = pd.read_csv('anonymisedData/studentInfo.csv')\n",
    "assessments = pd.read_csv('anonymisedData/assessments.csv')\n",
    "studentAssessment = pd.read_csv('anonymisedData/studentAssessment.csv')\n",
    "studentRegistration = pd.read_csv('anonymisedData/studentRegistration.csv')\n",
    "studentVLE = pd.read_csv('anonymisedData/studentVle.csv')\n",
    "vle = pd.read_csv('anonymisedData/vle.csv')"
   ]
  },
  {
   "cell_type": "markdown",
   "metadata": {},
   "source": [
    "## I. Descriptive Analysis\n"
   ]
  },
  {
   "cell_type": "markdown",
   "metadata": {},
   "source": [
    "<font color=blue>We'll first explore the tables that we imported. We're mainly going to do a preliminary look and get an understanding of the dataset. We'll then proceed to the cohort analysis. "
   ]
  },
  {
   "cell_type": "markdown",
   "metadata": {},
   "source": [
    "### courses Table"
   ]
  },
  {
   "cell_type": "code",
   "execution_count": 3,
   "metadata": {},
   "outputs": [
    {
     "name": "stdout",
     "output_type": "stream",
     "text": [
      "<class 'pandas.core.frame.DataFrame'>\n",
      "RangeIndex: 22 entries, 0 to 21\n",
      "Data columns (total 3 columns):\n",
      " #   Column                      Non-Null Count  Dtype \n",
      "---  ------                      --------------  ----- \n",
      " 0   code_module                 22 non-null     object\n",
      " 1   code_presentation           22 non-null     object\n",
      " 2   module_presentation_length  22 non-null     int64 \n",
      "dtypes: int64(1), object(2)\n",
      "memory usage: 656.0+ bytes\n"
     ]
    }
   ],
   "source": [
    "courses.info()"
   ]
  },
  {
   "cell_type": "code",
   "execution_count": 4,
   "metadata": {},
   "outputs": [
    {
     "data": {
      "text/plain": [
       "code_module\n",
       "AAA    268.500000\n",
       "BBB    251.000000\n",
       "CCC    255.000000\n",
       "DDD    251.000000\n",
       "EEE    259.333333\n",
       "FFF    254.500000\n",
       "GGG    257.000000\n",
       "Name: module_presentation_length, dtype: float64"
      ]
     },
     "execution_count": 4,
     "metadata": {},
     "output_type": "execute_result"
    }
   ],
   "source": [
    "# average number of days per module\n",
    "courses.groupby(['code_module'])['module_presentation_length'].agg('mean')"
   ]
  },
  {
   "cell_type": "code",
   "execution_count": 5,
   "metadata": {},
   "outputs": [
    {
     "data": {
      "text/html": [
       "<div>\n",
       "<style scoped>\n",
       "    .dataframe tbody tr th:only-of-type {\n",
       "        vertical-align: middle;\n",
       "    }\n",
       "\n",
       "    .dataframe tbody tr th {\n",
       "        vertical-align: top;\n",
       "    }\n",
       "\n",
       "    .dataframe thead th {\n",
       "        text-align: right;\n",
       "    }\n",
       "</style>\n",
       "<table border=\"1\" class=\"dataframe\">\n",
       "  <thead>\n",
       "    <tr style=\"text-align: right;\">\n",
       "      <th></th>\n",
       "      <th>module_presentation_length</th>\n",
       "    </tr>\n",
       "  </thead>\n",
       "  <tbody>\n",
       "    <tr>\n",
       "      <th>count</th>\n",
       "      <td>22.000000</td>\n",
       "    </tr>\n",
       "    <tr>\n",
       "      <th>mean</th>\n",
       "      <td>255.545455</td>\n",
       "    </tr>\n",
       "    <tr>\n",
       "      <th>std</th>\n",
       "      <td>13.654677</td>\n",
       "    </tr>\n",
       "    <tr>\n",
       "      <th>min</th>\n",
       "      <td>234.000000</td>\n",
       "    </tr>\n",
       "    <tr>\n",
       "      <th>25%</th>\n",
       "      <td>241.000000</td>\n",
       "    </tr>\n",
       "    <tr>\n",
       "      <th>50%</th>\n",
       "      <td>261.500000</td>\n",
       "    </tr>\n",
       "    <tr>\n",
       "      <th>75%</th>\n",
       "      <td>268.000000</td>\n",
       "    </tr>\n",
       "    <tr>\n",
       "      <th>max</th>\n",
       "      <td>269.000000</td>\n",
       "    </tr>\n",
       "  </tbody>\n",
       "</table>\n",
       "</div>"
      ],
      "text/plain": [
       "       module_presentation_length\n",
       "count                   22.000000\n",
       "mean                   255.545455\n",
       "std                     13.654677\n",
       "min                    234.000000\n",
       "25%                    241.000000\n",
       "50%                    261.500000\n",
       "75%                    268.000000\n",
       "max                    269.000000"
      ]
     },
     "execution_count": 5,
     "metadata": {},
     "output_type": "execute_result"
    }
   ],
   "source": [
    "courses.describe()\n",
    "# modules lasted between 234-269 days. "
   ]
  },
  {
   "cell_type": "markdown",
   "metadata": {},
   "source": [
    " ### StudentInfo Table"
   ]
  },
  {
   "cell_type": "code",
   "execution_count": 6,
   "metadata": {},
   "outputs": [
    {
     "name": "stdout",
     "output_type": "stream",
     "text": [
      "<class 'pandas.core.frame.DataFrame'>\n",
      "RangeIndex: 32593 entries, 0 to 32592\n",
      "Data columns (total 12 columns):\n",
      " #   Column                Non-Null Count  Dtype \n",
      "---  ------                --------------  ----- \n",
      " 0   code_module           32593 non-null  object\n",
      " 1   code_presentation     32593 non-null  object\n",
      " 2   id_student            32593 non-null  int64 \n",
      " 3   gender                32593 non-null  object\n",
      " 4   region                32593 non-null  object\n",
      " 5   highest_education     32593 non-null  object\n",
      " 6   imd_band              31482 non-null  object\n",
      " 7   age_band              32593 non-null  object\n",
      " 8   num_of_prev_attempts  32593 non-null  int64 \n",
      " 9   studied_credits       32593 non-null  int64 \n",
      " 10  disability            32593 non-null  object\n",
      " 11  final_result          32593 non-null  object\n",
      "dtypes: int64(3), object(9)\n",
      "memory usage: 3.0+ MB\n"
     ]
    }
   ],
   "source": [
    "# Get an understanding of what we have in the studentInfo table.\n",
    "studentInfo.info()\n",
    "\n",
    "# We see that we have some missing data in the `imd_band` column, which we would need to take into account when we analyze `imd_band` later. "
   ]
  },
  {
   "cell_type": "code",
   "execution_count": 7,
   "metadata": {},
   "outputs": [
    {
     "data": {
      "text/html": [
       "<div>\n",
       "<style scoped>\n",
       "    .dataframe tbody tr th:only-of-type {\n",
       "        vertical-align: middle;\n",
       "    }\n",
       "\n",
       "    .dataframe tbody tr th {\n",
       "        vertical-align: top;\n",
       "    }\n",
       "\n",
       "    .dataframe thead th {\n",
       "        text-align: right;\n",
       "    }\n",
       "</style>\n",
       "<table border=\"1\" class=\"dataframe\">\n",
       "  <thead>\n",
       "    <tr style=\"text-align: right;\">\n",
       "      <th></th>\n",
       "      <th>code_module</th>\n",
       "      <th>code_presentation</th>\n",
       "      <th>id_student</th>\n",
       "      <th>gender</th>\n",
       "      <th>region</th>\n",
       "      <th>highest_education</th>\n",
       "      <th>imd_band</th>\n",
       "      <th>age_band</th>\n",
       "      <th>num_of_prev_attempts</th>\n",
       "      <th>studied_credits</th>\n",
       "      <th>disability</th>\n",
       "      <th>final_result</th>\n",
       "    </tr>\n",
       "  </thead>\n",
       "  <tbody>\n",
       "    <tr>\n",
       "      <th>0</th>\n",
       "      <td>AAA</td>\n",
       "      <td>2013J</td>\n",
       "      <td>11391</td>\n",
       "      <td>M</td>\n",
       "      <td>East Anglian Region</td>\n",
       "      <td>HE Qualification</td>\n",
       "      <td>90-100%</td>\n",
       "      <td>55&lt;=</td>\n",
       "      <td>0</td>\n",
       "      <td>240</td>\n",
       "      <td>N</td>\n",
       "      <td>Pass</td>\n",
       "    </tr>\n",
       "    <tr>\n",
       "      <th>1</th>\n",
       "      <td>AAA</td>\n",
       "      <td>2013J</td>\n",
       "      <td>28400</td>\n",
       "      <td>F</td>\n",
       "      <td>Scotland</td>\n",
       "      <td>HE Qualification</td>\n",
       "      <td>20-30%</td>\n",
       "      <td>35-55</td>\n",
       "      <td>0</td>\n",
       "      <td>60</td>\n",
       "      <td>N</td>\n",
       "      <td>Pass</td>\n",
       "    </tr>\n",
       "    <tr>\n",
       "      <th>2</th>\n",
       "      <td>AAA</td>\n",
       "      <td>2013J</td>\n",
       "      <td>30268</td>\n",
       "      <td>F</td>\n",
       "      <td>North Western Region</td>\n",
       "      <td>A Level or Equivalent</td>\n",
       "      <td>30-40%</td>\n",
       "      <td>35-55</td>\n",
       "      <td>0</td>\n",
       "      <td>60</td>\n",
       "      <td>Y</td>\n",
       "      <td>Withdrawn</td>\n",
       "    </tr>\n",
       "    <tr>\n",
       "      <th>3</th>\n",
       "      <td>AAA</td>\n",
       "      <td>2013J</td>\n",
       "      <td>31604</td>\n",
       "      <td>F</td>\n",
       "      <td>South East Region</td>\n",
       "      <td>A Level or Equivalent</td>\n",
       "      <td>50-60%</td>\n",
       "      <td>35-55</td>\n",
       "      <td>0</td>\n",
       "      <td>60</td>\n",
       "      <td>N</td>\n",
       "      <td>Pass</td>\n",
       "    </tr>\n",
       "    <tr>\n",
       "      <th>4</th>\n",
       "      <td>AAA</td>\n",
       "      <td>2013J</td>\n",
       "      <td>32885</td>\n",
       "      <td>F</td>\n",
       "      <td>West Midlands Region</td>\n",
       "      <td>Lower Than A Level</td>\n",
       "      <td>50-60%</td>\n",
       "      <td>0-35</td>\n",
       "      <td>0</td>\n",
       "      <td>60</td>\n",
       "      <td>N</td>\n",
       "      <td>Pass</td>\n",
       "    </tr>\n",
       "  </tbody>\n",
       "</table>\n",
       "</div>"
      ],
      "text/plain": [
       "  code_module code_presentation  id_student gender                region  \\\n",
       "0         AAA             2013J       11391      M   East Anglian Region   \n",
       "1         AAA             2013J       28400      F              Scotland   \n",
       "2         AAA             2013J       30268      F  North Western Region   \n",
       "3         AAA             2013J       31604      F     South East Region   \n",
       "4         AAA             2013J       32885      F  West Midlands Region   \n",
       "\n",
       "       highest_education imd_band age_band  num_of_prev_attempts  \\\n",
       "0       HE Qualification  90-100%     55<=                     0   \n",
       "1       HE Qualification   20-30%    35-55                     0   \n",
       "2  A Level or Equivalent   30-40%    35-55                     0   \n",
       "3  A Level or Equivalent   50-60%    35-55                     0   \n",
       "4     Lower Than A Level   50-60%     0-35                     0   \n",
       "\n",
       "   studied_credits disability final_result  \n",
       "0              240          N         Pass  \n",
       "1               60          N         Pass  \n",
       "2               60          Y    Withdrawn  \n",
       "3               60          N         Pass  \n",
       "4               60          N         Pass  "
      ]
     },
     "execution_count": 7,
     "metadata": {},
     "output_type": "execute_result"
    }
   ],
   "source": [
    "studentInfo.head(5)"
   ]
  },
  {
   "cell_type": "code",
   "execution_count": 8,
   "metadata": {},
   "outputs": [
    {
     "data": {
      "text/plain": [
       "32593"
      ]
     },
     "execution_count": 8,
     "metadata": {},
     "output_type": "execute_result"
    }
   ],
   "source": [
    "len(studentInfo['id_student'])"
   ]
  },
  {
   "cell_type": "code",
   "execution_count": 9,
   "metadata": {},
   "outputs": [
    {
     "data": {
      "text/plain": [
       "28785"
      ]
     },
     "execution_count": 9,
     "metadata": {},
     "output_type": "execute_result"
    }
   ],
   "source": [
    "len(studentInfo['id_student'].unique())\n",
    "# Note that this table can have multiple student as it is arranged to represent one registration at a time"
   ]
  },
  {
   "cell_type": "code",
   "execution_count": 10,
   "metadata": {},
   "outputs": [
    {
     "data": {
      "text/plain": [
       "count    28785.000000\n",
       "mean         1.132291\n",
       "std          0.367915\n",
       "min          1.000000\n",
       "25%          1.000000\n",
       "50%          1.000000\n",
       "75%          1.000000\n",
       "max          5.000000\n",
       "Name: code_module, dtype: float64"
      ]
     },
     "execution_count": 10,
     "metadata": {},
     "output_type": "execute_result"
    }
   ],
   "source": [
    "studentInfo.groupby(['id_student'])['code_module'].count().describe()\n",
    "# students on average took 1.13 classes during 2013-2014, with max number of classes being 5 classes. "
   ]
  },
  {
   "cell_type": "code",
   "execution_count": 11,
   "metadata": {},
   "outputs": [
    {
     "data": {
      "text/plain": [
       "array(['Pass', 'Withdrawn', 'Fail', 'Distinction'], dtype=object)"
      ]
     },
     "execution_count": 11,
     "metadata": {},
     "output_type": "execute_result"
    }
   ],
   "source": [
    "studentInfo['final_result'].unique()"
   ]
  },
  {
   "cell_type": "code",
   "execution_count": 12,
   "metadata": {},
   "outputs": [],
   "source": [
    "# In our analysis we'll look at the outcome as a binary result - Pass or Fail. \n",
    "pass_fail = {'Withdrawn': 'Fail', 'Distinction': 'Pass'}\n",
    "studentInfo['final_result'] = studentInfo['final_result'].replace(pass_fail)"
   ]
  },
  {
   "cell_type": "code",
   "execution_count": 13,
   "metadata": {},
   "outputs": [
    {
     "data": {
      "text/plain": [
       "array(['Pass', 'Fail'], dtype=object)"
      ]
     },
     "execution_count": 13,
     "metadata": {},
     "output_type": "execute_result"
    }
   ],
   "source": [
    "studentInfo['final_result'].unique()"
   ]
  },
  {
   "cell_type": "code",
   "execution_count": 14,
   "metadata": {},
   "outputs": [
    {
     "data": {
      "text/plain": [
       "Text(0, 0.5, 'Number of Students')"
      ]
     },
     "execution_count": 14,
     "metadata": {},
     "output_type": "execute_result"
    },
    {
     "data": {
      "image/png": "[encoded data removed]",
      "text/plain": [
       "<Figure size 432x288 with 1 Axes>"
      ]
     },
     "metadata": {
      "needs_background": "light"
     },
     "output_type": "display_data"
    }
   ],
   "source": [
    "PF = sns.countplot(x=studentInfo['final_result'], palette={'Fail': '#EE9979', 'Pass': '#CBEE79'})\n",
    "PF.set_title('Number of Passing vs Failures')\n",
    "PF.set_ylabel('Number of Students')"
   ]
  },
  {
   "cell_type": "code",
   "execution_count": 15,
   "metadata": {},
   "outputs": [],
   "source": [
    "location = studentInfo.groupby('region')['id_student'].count().reset_index().sort_values(by=['id_student'], ascending=False)"
   ]
  },
  {
   "cell_type": "code",
   "execution_count": 16,
   "metadata": {},
   "outputs": [],
   "source": [
    "def piechart(df, group, count, title):\n",
    "    '''\n",
    "    df: the  grouped dataframe that is getting plotted\n",
    "    group: the categories we want to show\n",
    "    count: the column that has count of the values per category\n",
    "    title: title that goes on the pie chart\n",
    "    '''\n",
    "\n",
    "    labels = df[group].values\n",
    "    data = df[count].values\n",
    "\n",
    "    fig = plt.figure(figsize=(10, 7))\n",
    "    plt.pie(data, labels=labels)\n",
    "    plt.title(title)\n",
    "    plt.show()"
   ]
  },
  {
   "cell_type": "code",
   "execution_count": 17,
   "metadata": {
    "scrolled": true
   },
   "outputs": [
    {
     "data": {
      "image/png": "[encoded data removed]",
      "text/plain": [
       "<Figure size 720x504 with 1 Axes>"
      ]
     },
     "metadata": {},
     "output_type": "display_data"
    }
   ],
   "source": [
    "piechart(location, 'region', 'id_student', 'Geographic Location Distribution')"
   ]
  },
  {
   "cell_type": "code",
   "execution_count": 18,
   "metadata": {},
   "outputs": [
    {
     "data": {
      "image/png": "[encoded data removed]",
      "text/plain": [
       "<Figure size 720x504 with 1 Axes>"
      ]
     },
     "metadata": {},
     "output_type": "display_data"
    }
   ],
   "source": [
    "high_ed = studentInfo.groupby('highest_education')['id_student'].count().reset_index().sort_values(by=['id_student'], ascending=False)\n",
    "piechart(high_ed, 'highest_education', 'id_student', 'Education Prior to Registration')"
   ]
  },
  {
   "cell_type": "code",
   "execution_count": 19,
   "metadata": {},
   "outputs": [
    {
     "data": {
      "image/png": "[encoded data removed]",
      "text/plain": [
       "<Figure size 720x504 with 1 Axes>"
      ]
     },
     "metadata": {},
     "output_type": "display_data"
    }
   ],
   "source": [
    "courses = studentInfo.groupby('code_module')['id_student'].count().reset_index().sort_values(by=['id_student'], ascending=False)\n",
    "piechart(courses, 'code_module', 'id_student', '% of Students in Each Course')"
   ]
  },
  {
   "cell_type": "code",
   "execution_count": 20,
   "metadata": {},
   "outputs": [],
   "source": [
    "# courses: https://www.nature.com/articles/sdata2017171/tables/2\n",
    "\n",
    "course_dict = {'AAA': 'SS', 'BBB': 'SS', 'CCC': 'STEM', 'DDD': 'STEM', 'EEE': 'STEM', 'FFF': 'STEM', 'GGG': 'SS'}\n",
    "courses['code_module'].replace(course_dict, inplace=True)\n"
   ]
  },
  {
   "cell_type": "code",
   "execution_count": 21,
   "metadata": {},
   "outputs": [],
   "source": [
    "courses = courses.groupby('code_module')['id_student'].sum().reset_index().sort_values(by=['id_student'], ascending=False)"
   ]
  },
  {
   "cell_type": "code",
   "execution_count": 22,
   "metadata": {},
   "outputs": [
    {
     "data": {
      "image/png": "[encoded data removed]",
      "text/plain": [
       "<Figure size 720x504 with 1 Axes>"
      ]
     },
     "metadata": {},
     "output_type": "display_data"
    }
   ],
   "source": [
    "piechart(courses, 'code_module', 'id_student', '% of Students in Each Domain')"
   ]
  },
  {
   "cell_type": "markdown",
   "metadata": {},
   "source": [
    "### Assessments Table"
   ]
  },
  {
   "cell_type": "code",
   "execution_count": 23,
   "metadata": {},
   "outputs": [
    {
     "name": "stdout",
     "output_type": "stream",
     "text": [
      "<class 'pandas.core.frame.DataFrame'>\n",
      "RangeIndex: 206 entries, 0 to 205\n",
      "Data columns (total 6 columns):\n",
      " #   Column             Non-Null Count  Dtype  \n",
      "---  ------             --------------  -----  \n",
      " 0   code_module        206 non-null    object \n",
      " 1   code_presentation  206 non-null    object \n",
      " 2   id_assessment      206 non-null    int64  \n",
      " 3   assessment_type    206 non-null    object \n",
      " 4   date               195 non-null    float64\n",
      " 5   weight             206 non-null    float64\n",
      "dtypes: float64(2), int64(1), object(3)\n",
      "memory usage: 9.8+ KB\n"
     ]
    }
   ],
   "source": [
    "assessments.info()"
   ]
  },
  {
   "cell_type": "code",
   "execution_count": 24,
   "metadata": {},
   "outputs": [
    {
     "data": {
      "text/html": [
       "<div>\n",
       "<style scoped>\n",
       "    .dataframe tbody tr th:only-of-type {\n",
       "        vertical-align: middle;\n",
       "    }\n",
       "\n",
       "    .dataframe tbody tr th {\n",
       "        vertical-align: top;\n",
       "    }\n",
       "\n",
       "    .dataframe thead th {\n",
       "        text-align: right;\n",
       "    }\n",
       "</style>\n",
       "<table border=\"1\" class=\"dataframe\">\n",
       "  <thead>\n",
       "    <tr style=\"text-align: right;\">\n",
       "      <th></th>\n",
       "      <th>code_module</th>\n",
       "      <th>code_presentation</th>\n",
       "      <th>id_assessment</th>\n",
       "      <th>assessment_type</th>\n",
       "      <th>date</th>\n",
       "      <th>weight</th>\n",
       "    </tr>\n",
       "  </thead>\n",
       "  <tbody>\n",
       "    <tr>\n",
       "      <th>5</th>\n",
       "      <td>AAA</td>\n",
       "      <td>2013J</td>\n",
       "      <td>1757</td>\n",
       "      <td>Exam</td>\n",
       "      <td>NaN</td>\n",
       "      <td>100.0</td>\n",
       "    </tr>\n",
       "    <tr>\n",
       "      <th>11</th>\n",
       "      <td>AAA</td>\n",
       "      <td>2014J</td>\n",
       "      <td>1763</td>\n",
       "      <td>Exam</td>\n",
       "      <td>NaN</td>\n",
       "      <td>100.0</td>\n",
       "    </tr>\n",
       "    <tr>\n",
       "      <th>23</th>\n",
       "      <td>BBB</td>\n",
       "      <td>2013B</td>\n",
       "      <td>14990</td>\n",
       "      <td>Exam</td>\n",
       "      <td>NaN</td>\n",
       "      <td>100.0</td>\n",
       "    </tr>\n",
       "    <tr>\n",
       "      <th>35</th>\n",
       "      <td>BBB</td>\n",
       "      <td>2013J</td>\n",
       "      <td>15002</td>\n",
       "      <td>Exam</td>\n",
       "      <td>NaN</td>\n",
       "      <td>100.0</td>\n",
       "    </tr>\n",
       "    <tr>\n",
       "      <th>47</th>\n",
       "      <td>BBB</td>\n",
       "      <td>2014B</td>\n",
       "      <td>15014</td>\n",
       "      <td>Exam</td>\n",
       "      <td>NaN</td>\n",
       "      <td>100.0</td>\n",
       "    </tr>\n",
       "    <tr>\n",
       "      <th>53</th>\n",
       "      <td>BBB</td>\n",
       "      <td>2014J</td>\n",
       "      <td>15025</td>\n",
       "      <td>Exam</td>\n",
       "      <td>NaN</td>\n",
       "      <td>100.0</td>\n",
       "    </tr>\n",
       "    <tr>\n",
       "      <th>62</th>\n",
       "      <td>CCC</td>\n",
       "      <td>2014B</td>\n",
       "      <td>24290</td>\n",
       "      <td>Exam</td>\n",
       "      <td>NaN</td>\n",
       "      <td>100.0</td>\n",
       "    </tr>\n",
       "    <tr>\n",
       "      <th>63</th>\n",
       "      <td>CCC</td>\n",
       "      <td>2014B</td>\n",
       "      <td>40087</td>\n",
       "      <td>Exam</td>\n",
       "      <td>NaN</td>\n",
       "      <td>100.0</td>\n",
       "    </tr>\n",
       "    <tr>\n",
       "      <th>72</th>\n",
       "      <td>CCC</td>\n",
       "      <td>2014J</td>\n",
       "      <td>24299</td>\n",
       "      <td>Exam</td>\n",
       "      <td>NaN</td>\n",
       "      <td>100.0</td>\n",
       "    </tr>\n",
       "    <tr>\n",
       "      <th>73</th>\n",
       "      <td>CCC</td>\n",
       "      <td>2014J</td>\n",
       "      <td>40088</td>\n",
       "      <td>Exam</td>\n",
       "      <td>NaN</td>\n",
       "      <td>100.0</td>\n",
       "    </tr>\n",
       "    <tr>\n",
       "      <th>108</th>\n",
       "      <td>DDD</td>\n",
       "      <td>2014J</td>\n",
       "      <td>25368</td>\n",
       "      <td>Exam</td>\n",
       "      <td>NaN</td>\n",
       "      <td>100.0</td>\n",
       "    </tr>\n",
       "  </tbody>\n",
       "</table>\n",
       "</div>"
      ],
      "text/plain": [
       "    code_module code_presentation  id_assessment assessment_type  date  weight\n",
       "5           AAA             2013J           1757            Exam   NaN   100.0\n",
       "11          AAA             2014J           1763            Exam   NaN   100.0\n",
       "23          BBB             2013B          14990            Exam   NaN   100.0\n",
       "35          BBB             2013J          15002            Exam   NaN   100.0\n",
       "47          BBB             2014B          15014            Exam   NaN   100.0\n",
       "53          BBB             2014J          15025            Exam   NaN   100.0\n",
       "62          CCC             2014B          24290            Exam   NaN   100.0\n",
       "63          CCC             2014B          40087            Exam   NaN   100.0\n",
       "72          CCC             2014J          24299            Exam   NaN   100.0\n",
       "73          CCC             2014J          40088            Exam   NaN   100.0\n",
       "108         DDD             2014J          25368            Exam   NaN   100.0"
      ]
     },
     "execution_count": 24,
     "metadata": {},
     "output_type": "execute_result"
    }
   ],
   "source": [
    "# notice we have null values for column `date`. This is where where they're located. Per data source = \"If the information about the final exam date is missing, it is at the end of the last presentation week.\"\n",
    "assessments.loc[assessments['date'].isnull()]"
   ]
  },
  {
   "cell_type": "markdown",
   "metadata": {},
   "source": [
    "### studentAssessment Table"
   ]
  },
  {
   "cell_type": "code",
   "execution_count": 25,
   "metadata": {},
   "outputs": [
    {
     "name": "stdout",
     "output_type": "stream",
     "text": [
      "<class 'pandas.core.frame.DataFrame'>\n",
      "RangeIndex: 173912 entries, 0 to 173911\n",
      "Data columns (total 5 columns):\n",
      " #   Column          Non-Null Count   Dtype  \n",
      "---  ------          --------------   -----  \n",
      " 0   id_assessment   173912 non-null  int64  \n",
      " 1   id_student      173912 non-null  int64  \n",
      " 2   date_submitted  173912 non-null  int64  \n",
      " 3   is_banked       173912 non-null  int64  \n",
      " 4   score           173739 non-null  float64\n",
      "dtypes: float64(1), int64(4)\n",
      "memory usage: 6.6 MB\n"
     ]
    }
   ],
   "source": [
    "studentAssessment.info()"
   ]
  },
  {
   "cell_type": "code",
   "execution_count": 26,
   "metadata": {},
   "outputs": [],
   "source": [
    "# we see some null values in the score column. According to the data source: \"The final exam submissions is missing, if the result of the assessments is not stored in the system\""
   ]
  },
  {
   "cell_type": "code",
   "execution_count": 27,
   "metadata": {},
   "outputs": [
    {
     "data": {
      "text/plain": [
       "count    23369.000000\n",
       "mean         7.441996\n",
       "std          4.223937\n",
       "min          1.000000\n",
       "25%          4.000000\n",
       "50%          7.000000\n",
       "75%         11.000000\n",
       "max         28.000000\n",
       "Name: id_assessment, dtype: float64"
      ]
     },
     "execution_count": 27,
     "metadata": {},
     "output_type": "execute_result"
    }
   ],
   "source": [
    "studentAssessment.groupby(['id_student'])['id_assessment'].count().describe()"
   ]
  },
  {
   "cell_type": "markdown",
   "metadata": {},
   "source": [
    "### studentRegistration"
   ]
  },
  {
   "cell_type": "code",
   "execution_count": 28,
   "metadata": {},
   "outputs": [
    {
     "name": "stdout",
     "output_type": "stream",
     "text": [
      "<class 'pandas.core.frame.DataFrame'>\n",
      "RangeIndex: 32593 entries, 0 to 32592\n",
      "Data columns (total 5 columns):\n",
      " #   Column               Non-Null Count  Dtype  \n",
      "---  ------               --------------  -----  \n",
      " 0   code_module          32593 non-null  object \n",
      " 1   code_presentation    32593 non-null  object \n",
      " 2   id_student           32593 non-null  int64  \n",
      " 3   date_registration    32548 non-null  float64\n",
      " 4   date_unregistration  10072 non-null  float64\n",
      "dtypes: float64(2), int64(1), object(2)\n",
      "memory usage: 1.2+ MB\n"
     ]
    }
   ],
   "source": [
    "studentRegistration.info()"
   ]
  },
  {
   "cell_type": "code",
   "execution_count": 29,
   "metadata": {},
   "outputs": [],
   "source": [
    "# note we have a lot of missing data in the date_unregistration column. According to the data source, it simply means that the student did not withdraw. \n",
    "# we have some missing data in the date_registration column, and we're not sure about the reason. "
   ]
  },
  {
   "cell_type": "code",
   "execution_count": 30,
   "metadata": {},
   "outputs": [
    {
     "data": {
      "text/html": [
       "<div>\n",
       "<style scoped>\n",
       "    .dataframe tbody tr th:only-of-type {\n",
       "        vertical-align: middle;\n",
       "    }\n",
       "\n",
       "    .dataframe tbody tr th {\n",
       "        vertical-align: top;\n",
       "    }\n",
       "\n",
       "    .dataframe thead th {\n",
       "        text-align: right;\n",
       "    }\n",
       "</style>\n",
       "<table border=\"1\" class=\"dataframe\">\n",
       "  <thead>\n",
       "    <tr style=\"text-align: right;\">\n",
       "      <th></th>\n",
       "      <th>date_registration</th>\n",
       "      <th>date_unregistration</th>\n",
       "    </tr>\n",
       "  </thead>\n",
       "  <tbody>\n",
       "    <tr>\n",
       "      <th>count</th>\n",
       "      <td>32548.000000</td>\n",
       "      <td>10072.000000</td>\n",
       "    </tr>\n",
       "    <tr>\n",
       "      <th>mean</th>\n",
       "      <td>-69.411300</td>\n",
       "      <td>49.757645</td>\n",
       "    </tr>\n",
       "    <tr>\n",
       "      <th>std</th>\n",
       "      <td>49.260522</td>\n",
       "      <td>82.460890</td>\n",
       "    </tr>\n",
       "    <tr>\n",
       "      <th>min</th>\n",
       "      <td>-322.000000</td>\n",
       "      <td>-365.000000</td>\n",
       "    </tr>\n",
       "    <tr>\n",
       "      <th>25%</th>\n",
       "      <td>-100.000000</td>\n",
       "      <td>-2.000000</td>\n",
       "    </tr>\n",
       "    <tr>\n",
       "      <th>50%</th>\n",
       "      <td>-57.000000</td>\n",
       "      <td>27.000000</td>\n",
       "    </tr>\n",
       "    <tr>\n",
       "      <th>75%</th>\n",
       "      <td>-29.000000</td>\n",
       "      <td>109.000000</td>\n",
       "    </tr>\n",
       "    <tr>\n",
       "      <th>max</th>\n",
       "      <td>167.000000</td>\n",
       "      <td>444.000000</td>\n",
       "    </tr>\n",
       "  </tbody>\n",
       "</table>\n",
       "</div>"
      ],
      "text/plain": [
       "       date_registration  date_unregistration\n",
       "count       32548.000000         10072.000000\n",
       "mean          -69.411300            49.757645\n",
       "std            49.260522            82.460890\n",
       "min          -322.000000          -365.000000\n",
       "25%          -100.000000            -2.000000\n",
       "50%           -57.000000            27.000000\n",
       "75%           -29.000000           109.000000\n",
       "max           167.000000           444.000000"
      ]
     },
     "execution_count": 30,
     "metadata": {},
     "output_type": "execute_result"
    }
   ],
   "source": [
    "studentRegistration[['date_registration', 'date_unregistration']].describe()"
   ]
  },
  {
   "cell_type": "code",
   "execution_count": 31,
   "metadata": {},
   "outputs": [
    {
     "data": {
      "text/plain": [
       "30.95"
      ]
     },
     "execution_count": 31,
     "metadata": {},
     "output_type": "execute_result"
    }
   ],
   "source": [
    "round((studentRegistration['date_unregistration'].count() / studentRegistration['date_registration'].count()) * 100, 2)"
   ]
  },
  {
   "cell_type": "code",
   "execution_count": 32,
   "metadata": {},
   "outputs": [],
   "source": [
    "# about 31% of the students unregistered at some point in their course. More analysis on withdrawals later"
   ]
  },
  {
   "cell_type": "markdown",
   "metadata": {},
   "source": [
    "### studentVLE"
   ]
  },
  {
   "cell_type": "code",
   "execution_count": 33,
   "metadata": {},
   "outputs": [
    {
     "name": "stdout",
     "output_type": "stream",
     "text": [
      "<class 'pandas.core.frame.DataFrame'>\n",
      "RangeIndex: 10655280 entries, 0 to 10655279\n",
      "Data columns (total 6 columns):\n",
      " #   Column             Dtype \n",
      "---  ------             ----- \n",
      " 0   code_module        object\n",
      " 1   code_presentation  object\n",
      " 2   id_student         int64 \n",
      " 3   id_site            int64 \n",
      " 4   date               int64 \n",
      " 5   sum_click          int64 \n",
      "dtypes: int64(4), object(2)\n",
      "memory usage: 487.8+ MB\n"
     ]
    }
   ],
   "source": [
    "studentVLE.info()"
   ]
  },
  {
   "cell_type": "code",
   "execution_count": 34,
   "metadata": {},
   "outputs": [
    {
     "data": {
      "text/plain": [
       "10655280"
      ]
     },
     "execution_count": 34,
     "metadata": {},
     "output_type": "execute_result"
    }
   ],
   "source": [
    "len(studentVLE)"
   ]
  },
  {
   "cell_type": "code",
   "execution_count": 35,
   "metadata": {},
   "outputs": [
    {
     "name": "stdout",
     "output_type": "stream",
     "text": [
      "1065528\n"
     ]
    },
    {
     "data": {
      "text/html": [
       "<div>\n",
       "<style scoped>\n",
       "    .dataframe tbody tr th:only-of-type {\n",
       "        vertical-align: middle;\n",
       "    }\n",
       "\n",
       "    .dataframe tbody tr th {\n",
       "        vertical-align: top;\n",
       "    }\n",
       "\n",
       "    .dataframe thead th {\n",
       "        text-align: right;\n",
       "    }\n",
       "</style>\n",
       "<table border=\"1\" class=\"dataframe\">\n",
       "  <thead>\n",
       "    <tr style=\"text-align: right;\">\n",
       "      <th></th>\n",
       "      <th>code_module</th>\n",
       "      <th>code_presentation</th>\n",
       "      <th>id_student</th>\n",
       "      <th>id_site</th>\n",
       "      <th>date</th>\n",
       "      <th>sum_click</th>\n",
       "    </tr>\n",
       "  </thead>\n",
       "  <tbody>\n",
       "    <tr>\n",
       "      <th>0</th>\n",
       "      <td>BBB</td>\n",
       "      <td>2014J</td>\n",
       "      <td>570275</td>\n",
       "      <td>913474</td>\n",
       "      <td>229</td>\n",
       "      <td>1</td>\n",
       "    </tr>\n",
       "    <tr>\n",
       "      <th>1</th>\n",
       "      <td>FFF</td>\n",
       "      <td>2013J</td>\n",
       "      <td>599199</td>\n",
       "      <td>716744</td>\n",
       "      <td>-9</td>\n",
       "      <td>4</td>\n",
       "    </tr>\n",
       "    <tr>\n",
       "      <th>2</th>\n",
       "      <td>FFF</td>\n",
       "      <td>2014J</td>\n",
       "      <td>1837138</td>\n",
       "      <td>882537</td>\n",
       "      <td>156</td>\n",
       "      <td>16</td>\n",
       "    </tr>\n",
       "    <tr>\n",
       "      <th>3</th>\n",
       "      <td>DDD</td>\n",
       "      <td>2013B</td>\n",
       "      <td>476637</td>\n",
       "      <td>547856</td>\n",
       "      <td>136</td>\n",
       "      <td>1</td>\n",
       "    </tr>\n",
       "    <tr>\n",
       "      <th>4</th>\n",
       "      <td>BBB</td>\n",
       "      <td>2013J</td>\n",
       "      <td>404269</td>\n",
       "      <td>703939</td>\n",
       "      <td>9</td>\n",
       "      <td>2</td>\n",
       "    </tr>\n",
       "    <tr>\n",
       "      <th>5</th>\n",
       "      <td>AAA</td>\n",
       "      <td>2014J</td>\n",
       "      <td>135471</td>\n",
       "      <td>877030</td>\n",
       "      <td>161</td>\n",
       "      <td>1</td>\n",
       "    </tr>\n",
       "    <tr>\n",
       "      <th>6</th>\n",
       "      <td>BBB</td>\n",
       "      <td>2013B</td>\n",
       "      <td>360188</td>\n",
       "      <td>542797</td>\n",
       "      <td>73</td>\n",
       "      <td>1</td>\n",
       "    </tr>\n",
       "    <tr>\n",
       "      <th>7</th>\n",
       "      <td>BBB</td>\n",
       "      <td>2013J</td>\n",
       "      <td>367433</td>\n",
       "      <td>703895</td>\n",
       "      <td>95</td>\n",
       "      <td>1</td>\n",
       "    </tr>\n",
       "    <tr>\n",
       "      <th>8</th>\n",
       "      <td>BBB</td>\n",
       "      <td>2014B</td>\n",
       "      <td>2164251</td>\n",
       "      <td>768348</td>\n",
       "      <td>207</td>\n",
       "      <td>11</td>\n",
       "    </tr>\n",
       "    <tr>\n",
       "      <th>9</th>\n",
       "      <td>EEE</td>\n",
       "      <td>2014B</td>\n",
       "      <td>633511</td>\n",
       "      <td>790923</td>\n",
       "      <td>150</td>\n",
       "      <td>1</td>\n",
       "    </tr>\n",
       "  </tbody>\n",
       "</table>\n",
       "</div>"
      ],
      "text/plain": [
       "  code_module code_presentation  id_student  id_site  date  sum_click\n",
       "0         BBB             2014J      570275   913474   229          1\n",
       "1         FFF             2013J      599199   716744    -9          4\n",
       "2         FFF             2014J     1837138   882537   156         16\n",
       "3         DDD             2013B      476637   547856   136          1\n",
       "4         BBB             2013J      404269   703939     9          2\n",
       "5         AAA             2014J      135471   877030   161          1\n",
       "6         BBB             2013B      360188   542797    73          1\n",
       "7         BBB             2013J      367433   703895    95          1\n",
       "8         BBB             2014B     2164251   768348   207         11\n",
       "9         EEE             2014B      633511   790923   150          1"
      ]
     },
     "execution_count": 35,
     "metadata": {},
     "output_type": "execute_result"
    }
   ],
   "source": [
    "# due to computational limitations on my Mac, I cannot work with this entire dataset. I'll take a 10% random sample of the dataset.\n",
    "\n",
    "# Take a random sample 10% of the dataset\n",
    "studentVLE = studentVLE.sample(frac=0.1, random_state=1).reset_index(drop=True)\n",
    "\n",
    "print(len(studentVLE))\n",
    "\n",
    "studentVLE.head(10)"
   ]
  },
  {
   "cell_type": "markdown",
   "metadata": {},
   "source": [
    "### VLE"
   ]
  },
  {
   "cell_type": "code",
   "execution_count": 36,
   "metadata": {},
   "outputs": [
    {
     "name": "stdout",
     "output_type": "stream",
     "text": [
      "<class 'pandas.core.frame.DataFrame'>\n",
      "RangeIndex: 6364 entries, 0 to 6363\n",
      "Data columns (total 6 columns):\n",
      " #   Column             Non-Null Count  Dtype  \n",
      "---  ------             --------------  -----  \n",
      " 0   id_site            6364 non-null   int64  \n",
      " 1   code_module        6364 non-null   object \n",
      " 2   code_presentation  6364 non-null   object \n",
      " 3   activity_type      6364 non-null   object \n",
      " 4   week_from          1121 non-null   float64\n",
      " 5   week_to            1121 non-null   float64\n",
      "dtypes: float64(2), int64(1), object(3)\n",
      "memory usage: 298.4+ KB\n"
     ]
    }
   ],
   "source": [
    "vle.info()"
   ]
  },
  {
   "cell_type": "code",
   "execution_count": 37,
   "metadata": {},
   "outputs": [
    {
     "data": {
      "text/html": [
       "<div>\n",
       "<style scoped>\n",
       "    .dataframe tbody tr th:only-of-type {\n",
       "        vertical-align: middle;\n",
       "    }\n",
       "\n",
       "    .dataframe tbody tr th {\n",
       "        vertical-align: top;\n",
       "    }\n",
       "\n",
       "    .dataframe thead th {\n",
       "        text-align: right;\n",
       "    }\n",
       "</style>\n",
       "<table border=\"1\" class=\"dataframe\">\n",
       "  <thead>\n",
       "    <tr style=\"text-align: right;\">\n",
       "      <th></th>\n",
       "      <th>id_site</th>\n",
       "      <th>week_from</th>\n",
       "      <th>week_to</th>\n",
       "    </tr>\n",
       "  </thead>\n",
       "  <tbody>\n",
       "    <tr>\n",
       "      <th>count</th>\n",
       "      <td>6.364000e+03</td>\n",
       "      <td>1121.000000</td>\n",
       "      <td>1121.000000</td>\n",
       "    </tr>\n",
       "    <tr>\n",
       "      <th>mean</th>\n",
       "      <td>7.260991e+05</td>\n",
       "      <td>15.204282</td>\n",
       "      <td>15.214987</td>\n",
       "    </tr>\n",
       "    <tr>\n",
       "      <th>std</th>\n",
       "      <td>1.283151e+05</td>\n",
       "      <td>8.792865</td>\n",
       "      <td>8.779806</td>\n",
       "    </tr>\n",
       "    <tr>\n",
       "      <th>min</th>\n",
       "      <td>5.267210e+05</td>\n",
       "      <td>0.000000</td>\n",
       "      <td>0.000000</td>\n",
       "    </tr>\n",
       "    <tr>\n",
       "      <th>25%</th>\n",
       "      <td>6.615928e+05</td>\n",
       "      <td>8.000000</td>\n",
       "      <td>8.000000</td>\n",
       "    </tr>\n",
       "    <tr>\n",
       "      <th>50%</th>\n",
       "      <td>7.300965e+05</td>\n",
       "      <td>15.000000</td>\n",
       "      <td>15.000000</td>\n",
       "    </tr>\n",
       "    <tr>\n",
       "      <th>75%</th>\n",
       "      <td>8.140162e+05</td>\n",
       "      <td>22.000000</td>\n",
       "      <td>22.000000</td>\n",
       "    </tr>\n",
       "    <tr>\n",
       "      <th>max</th>\n",
       "      <td>1.077905e+06</td>\n",
       "      <td>29.000000</td>\n",
       "      <td>29.000000</td>\n",
       "    </tr>\n",
       "  </tbody>\n",
       "</table>\n",
       "</div>"
      ],
      "text/plain": [
       "            id_site    week_from      week_to\n",
       "count  6.364000e+03  1121.000000  1121.000000\n",
       "mean   7.260991e+05    15.204282    15.214987\n",
       "std    1.283151e+05     8.792865     8.779806\n",
       "min    5.267210e+05     0.000000     0.000000\n",
       "25%    6.615928e+05     8.000000     8.000000\n",
       "50%    7.300965e+05    15.000000    15.000000\n",
       "75%    8.140162e+05    22.000000    22.000000\n",
       "max    1.077905e+06    29.000000    29.000000"
      ]
     },
     "execution_count": 37,
     "metadata": {},
     "output_type": "execute_result"
    }
   ],
   "source": [
    "# we have missing data in week_from and week_to column which indicates that we don't have an approximate date range of when these modules were being planned to be used. We can fill the nulls later if we end up using these columns\n",
    "\n",
    "vle.describe()"
   ]
  },
  {
   "cell_type": "markdown",
   "metadata": {},
   "source": [
    "## II. Performance trends among various demographic cohorts (age, gender, imd_band, highest education etc.)"
   ]
  },
  {
   "cell_type": "markdown",
   "metadata": {},
   "source": [
    "<font color=blue> \n",
    "I decided to explore disability, age, gender and imd_band."
   ]
  },
  {
   "cell_type": "markdown",
   "metadata": {},
   "source": [
    "### Disability"
   ]
  },
  {
   "cell_type": "code",
   "execution_count": 38,
   "metadata": {},
   "outputs": [
    {
     "data": {
      "text/plain": [
       "array(['N', 'Y'], dtype=object)"
      ]
     },
     "execution_count": 38,
     "metadata": {},
     "output_type": "execute_result"
    }
   ],
   "source": [
    "studentInfo['disability'].unique()\n",
    "# disability is a binary outcome - N or Y"
   ]
  },
  {
   "cell_type": "code",
   "execution_count": 39,
   "metadata": {
    "scrolled": true
   },
   "outputs": [
    {
     "data": {
      "text/plain": [
       "Text(0.5, 1.0, 'Count of Students Declaring Disability')"
      ]
     },
     "execution_count": 39,
     "metadata": {},
     "output_type": "execute_result"
    },
    {
     "data": {
      "image/png": "[encoded data removed]",
      "text/plain": [
       "<Figure size 432x288 with 1 Axes>"
      ]
     },
     "metadata": {
      "needs_background": "light"
     },
     "output_type": "display_data"
    }
   ],
   "source": [
    "dYN = sns.countplot(x=studentInfo['disability'], palette={'Y': 'orange', 'N': 'navy'})\n",
    "dYN.set_title('Count of Students Declaring Disability')"
   ]
  },
  {
   "cell_type": "code",
   "execution_count": 40,
   "metadata": {
    "scrolled": true
   },
   "outputs": [
    {
     "data": {
      "text/plain": [
       "disability\n",
       "N    29429\n",
       "Y     3164\n",
       "Name: id_student, dtype: int64"
      ]
     },
     "execution_count": 40,
     "metadata": {},
     "output_type": "execute_result"
    }
   ],
   "source": [
    "# count of students declaring disability - Y or N\n",
    "studentInfo.groupby(['disability'])['id_student'].count()"
   ]
  },
  {
   "cell_type": "code",
   "execution_count": 41,
   "metadata": {},
   "outputs": [
    {
     "name": "stdout",
     "output_type": "stream",
     "text": [
      "disability  final_result\n",
      "N           Fail            15251\n",
      "            Pass            14178\n",
      "Y           Fail             1957\n",
      "            Pass             1207\n",
      "Name: id_student, dtype: int64\n"
     ]
    }
   ],
   "source": [
    "# count of pass/fail in students declaring disability - Y or N \n",
    "d = studentInfo.groupby(['disability','final_result'])['id_student'].count()\n",
    "print(d)\n"
   ]
  },
  {
   "cell_type": "code",
   "execution_count": 42,
   "metadata": {},
   "outputs": [],
   "source": [
    "# we will make a function for stacked percent chart because we will reuse it later\n",
    "\n",
    "def stacked_percent(grouped_data, description):\n",
    "    \n",
    "    '''\n",
    "    grouped_data: provide a grouped dataframe with the count of each student per category\n",
    "    description: provide the description of the graph to print with the title\n",
    "    '''\n",
    "    \n",
    "    # find percentages \n",
    "    percentage_calculated = grouped_data.groupby(level=0).apply(lambda x:100 * x / float(x.sum()))\n",
    "    df = percentage_calculated.unstack('final_result')\n",
    "    stacked_plt = df.plot(kind='bar', stacked=True, color={'Fail': '#EE9979', 'Pass': '#CBEE79'}, mark_right=True)\n",
    "    stacked_plt.set_ylabel('Percentage (%)')\n",
    "    stacked_plt.set_title('% of Passing in Students {}'.format(description))\n"
   ]
  },
  {
   "cell_type": "code",
   "execution_count": 43,
   "metadata": {},
   "outputs": [
    {
     "data": {
      "image/png": "[encoded data removed]",
      "text/plain": [
       "<Figure size 432x288 with 1 Axes>"
      ]
     },
     "metadata": {
      "needs_background": "light"
     },
     "output_type": "display_data"
    }
   ],
   "source": [
    "stacked_percent(d, 'with or without Disability')"
   ]
  },
  {
   "cell_type": "markdown",
   "metadata": {},
   "source": [
    "## Age"
   ]
  },
  {
   "cell_type": "code",
   "execution_count": 44,
   "metadata": {},
   "outputs": [
    {
     "name": "stdout",
     "output_type": "stream",
     "text": [
      "['55<=' '35-55' '0-35']\n"
     ]
    }
   ],
   "source": [
    "# We first want to look at the age data and what unique values there are\n",
    "print(studentInfo['age_band'].unique())"
   ]
  },
  {
   "cell_type": "code",
   "execution_count": 45,
   "metadata": {},
   "outputs": [
    {
     "data": {
      "text/plain": [
       "Text(0.5, 1.0, 'Distribution of Age Bands')"
      ]
     },
     "execution_count": 45,
     "metadata": {},
     "output_type": "execute_result"
    },
    {
     "data": {
      "image/png": "[encoded data removed]",
      "text/plain": [
       "<Figure size 432x288 with 1 Axes>"
      ]
     },
     "metadata": {
      "needs_background": "light"
     },
     "output_type": "display_data"
    }
   ],
   "source": [
    "a = sns.histplot(x=studentInfo['age_band'], color='navy')\n",
    "a.set_title('Distribution of Age Bands')"
   ]
  },
  {
   "cell_type": "code",
   "execution_count": 46,
   "metadata": {},
   "outputs": [],
   "source": [
    "# We see that students 55 and up are severely underrepresented in the dataset. We have a larger number of students between 0-35 and 35-55, respectively. "
   ]
  },
  {
   "cell_type": "code",
   "execution_count": 47,
   "metadata": {},
   "outputs": [
    {
     "data": {
      "text/plain": [
       "age_band\n",
       "0-35     22944\n",
       "35-55     9433\n",
       "55<=       216\n",
       "Name: id_student, dtype: int64"
      ]
     },
     "execution_count": 47,
     "metadata": {},
     "output_type": "execute_result"
    }
   ],
   "source": [
    "studentInfo.groupby(['age_band'])['id_student'].count()"
   ]
  },
  {
   "cell_type": "code",
   "execution_count": 48,
   "metadata": {},
   "outputs": [
    {
     "data": {
      "text/plain": [
       "age_band  final_result\n",
       "0-35      Fail            12612\n",
       "          Pass            10332\n",
       "35-55     Fail             4513\n",
       "          Pass             4920\n",
       "55<=      Fail               83\n",
       "          Pass              133\n",
       "Name: id_student, dtype: int64"
      ]
     },
     "execution_count": 48,
     "metadata": {},
     "output_type": "execute_result"
    }
   ],
   "source": [
    "# analyizing outcome\n",
    "age_score = studentInfo.groupby(['age_band','final_result'])['id_student'].count()\n",
    "age_score"
   ]
  },
  {
   "cell_type": "code",
   "execution_count": 49,
   "metadata": {},
   "outputs": [
    {
     "data": {
      "image/png": "[encoded data removed]",
      "text/plain": [
       "<Figure size 432x288 with 1 Axes>"
      ]
     },
     "metadata": {
      "needs_background": "light"
     },
     "output_type": "display_data"
    }
   ],
   "source": [
    "stacked_percent(age_score, 'in Different Age Groups')"
   ]
  },
  {
   "cell_type": "markdown",
   "metadata": {},
   "source": [
    "## Gender"
   ]
  },
  {
   "cell_type": "code",
   "execution_count": 50,
   "metadata": {},
   "outputs": [
    {
     "name": "stdout",
     "output_type": "stream",
     "text": [
      "['M' 'F']\n"
     ]
    }
   ],
   "source": [
    "print(studentInfo['gender'].unique())"
   ]
  },
  {
   "cell_type": "code",
   "execution_count": 51,
   "metadata": {},
   "outputs": [
    {
     "name": "stdout",
     "output_type": "stream",
     "text": [
      "  gender  id_student\n",
      "0      F       14718\n",
      "1      M       17875\n"
     ]
    }
   ],
   "source": [
    "# group by gender and count student ids in each gender\n",
    "print(studentInfo.groupby(['gender'])['id_student'].count().reset_index())"
   ]
  },
  {
   "cell_type": "code",
   "execution_count": 52,
   "metadata": {},
   "outputs": [
    {
     "data": {
      "text/plain": [
       "Text(0.5, 1.0, 'Number of Students (Male or Female)')"
      ]
     },
     "execution_count": 52,
     "metadata": {},
     "output_type": "execute_result"
    },
    {
     "data": {
      "image/png": "[encoded data removed]",
      "text/plain": [
       "<Figure size 432x288 with 1 Axes>"
      ]
     },
     "metadata": {
      "needs_background": "light"
     },
     "output_type": "display_data"
    }
   ],
   "source": [
    "gender_distribution = sns.countplot(x=studentInfo['gender'], palette={'M': 'orange', 'F': 'navy'})\n",
    "gender_distribution.set_title('Number of Students (Male or Female)')"
   ]
  },
  {
   "cell_type": "code",
   "execution_count": 53,
   "metadata": {},
   "outputs": [
    {
     "name": "stdout",
     "output_type": "stream",
     "text": [
      "gender  final_result\n",
      "F       Fail            7589\n",
      "        Pass            7129\n",
      "M       Fail            9619\n",
      "        Pass            8256\n",
      "Name: id_student, dtype: int64\n"
     ]
    }
   ],
   "source": [
    "# group by gender and final_result to count student ids in each\n",
    "g = studentInfo.groupby(['gender', 'final_result'])['id_student'].count()\n",
    "print(g)"
   ]
  },
  {
   "cell_type": "code",
   "execution_count": 54,
   "metadata": {},
   "outputs": [
    {
     "data": {
      "image/png": "[encoded data removed]",
      "text/plain": [
       "<Figure size 432x288 with 1 Axes>"
      ]
     },
     "metadata": {
      "needs_background": "light"
     },
     "output_type": "display_data"
    }
   ],
   "source": [
    "stacked_percent(g, 'in Each Gender')"
   ]
  },
  {
   "cell_type": "markdown",
   "metadata": {},
   "source": [
    "### IMD band"
   ]
  },
  {
   "cell_type": "code",
   "execution_count": 55,
   "metadata": {},
   "outputs": [
    {
     "name": "stdout",
     "output_type": "stream",
     "text": [
      "<class 'pandas.core.frame.DataFrame'>\n",
      "RangeIndex: 32593 entries, 0 to 32592\n",
      "Data columns (total 12 columns):\n",
      " #   Column                Non-Null Count  Dtype \n",
      "---  ------                --------------  ----- \n",
      " 0   code_module           32593 non-null  object\n",
      " 1   code_presentation     32593 non-null  object\n",
      " 2   id_student            32593 non-null  int64 \n",
      " 3   gender                32593 non-null  object\n",
      " 4   region                32593 non-null  object\n",
      " 5   highest_education     32593 non-null  object\n",
      " 6   imd_band              31482 non-null  object\n",
      " 7   age_band              32593 non-null  object\n",
      " 8   num_of_prev_attempts  32593 non-null  int64 \n",
      " 9   studied_credits       32593 non-null  int64 \n",
      " 10  disability            32593 non-null  object\n",
      " 11  final_result          32593 non-null  object\n",
      "dtypes: int64(3), object(9)\n",
      "memory usage: 3.0+ MB\n"
     ]
    }
   ],
   "source": [
    "# recall from our earlier analysis that imd_band had null values.\n",
    "studentInfo.info()"
   ]
  },
  {
   "cell_type": "code",
   "execution_count": 56,
   "metadata": {},
   "outputs": [
    {
     "data": {
      "text/html": [
       "<div>\n",
       "<style scoped>\n",
       "    .dataframe tbody tr th:only-of-type {\n",
       "        vertical-align: middle;\n",
       "    }\n",
       "\n",
       "    .dataframe tbody tr th {\n",
       "        vertical-align: top;\n",
       "    }\n",
       "\n",
       "    .dataframe thead th {\n",
       "        text-align: right;\n",
       "    }\n",
       "</style>\n",
       "<table border=\"1\" class=\"dataframe\">\n",
       "  <thead>\n",
       "    <tr style=\"text-align: right;\">\n",
       "      <th></th>\n",
       "      <th>code_module</th>\n",
       "      <th>code_presentation</th>\n",
       "      <th>id_student</th>\n",
       "      <th>gender</th>\n",
       "      <th>region</th>\n",
       "      <th>highest_education</th>\n",
       "      <th>imd_band</th>\n",
       "      <th>age_band</th>\n",
       "      <th>num_of_prev_attempts</th>\n",
       "      <th>studied_credits</th>\n",
       "      <th>disability</th>\n",
       "      <th>final_result</th>\n",
       "    </tr>\n",
       "  </thead>\n",
       "  <tbody>\n",
       "    <tr>\n",
       "      <th>9</th>\n",
       "      <td>AAA</td>\n",
       "      <td>2013J</td>\n",
       "      <td>53025</td>\n",
       "      <td>M</td>\n",
       "      <td>North Region</td>\n",
       "      <td>Post Graduate Qualification</td>\n",
       "      <td>NaN</td>\n",
       "      <td>55&lt;=</td>\n",
       "      <td>0</td>\n",
       "      <td>60</td>\n",
       "      <td>N</td>\n",
       "      <td>Pass</td>\n",
       "    </tr>\n",
       "    <tr>\n",
       "      <th>17</th>\n",
       "      <td>AAA</td>\n",
       "      <td>2013J</td>\n",
       "      <td>71361</td>\n",
       "      <td>M</td>\n",
       "      <td>Ireland</td>\n",
       "      <td>HE Qualification</td>\n",
       "      <td>NaN</td>\n",
       "      <td>35-55</td>\n",
       "      <td>0</td>\n",
       "      <td>60</td>\n",
       "      <td>N</td>\n",
       "      <td>Pass</td>\n",
       "    </tr>\n",
       "    <tr>\n",
       "      <th>28</th>\n",
       "      <td>AAA</td>\n",
       "      <td>2013J</td>\n",
       "      <td>104476</td>\n",
       "      <td>M</td>\n",
       "      <td>Ireland</td>\n",
       "      <td>Post Graduate Qualification</td>\n",
       "      <td>NaN</td>\n",
       "      <td>35-55</td>\n",
       "      <td>0</td>\n",
       "      <td>60</td>\n",
       "      <td>N</td>\n",
       "      <td>Pass</td>\n",
       "    </tr>\n",
       "    <tr>\n",
       "      <th>34</th>\n",
       "      <td>AAA</td>\n",
       "      <td>2013J</td>\n",
       "      <td>114017</td>\n",
       "      <td>F</td>\n",
       "      <td>North Region</td>\n",
       "      <td>Post Graduate Qualification</td>\n",
       "      <td>NaN</td>\n",
       "      <td>35-55</td>\n",
       "      <td>0</td>\n",
       "      <td>60</td>\n",
       "      <td>N</td>\n",
       "      <td>Pass</td>\n",
       "    </tr>\n",
       "    <tr>\n",
       "      <th>65</th>\n",
       "      <td>AAA</td>\n",
       "      <td>2013J</td>\n",
       "      <td>172112</td>\n",
       "      <td>M</td>\n",
       "      <td>Ireland</td>\n",
       "      <td>HE Qualification</td>\n",
       "      <td>NaN</td>\n",
       "      <td>35-55</td>\n",
       "      <td>0</td>\n",
       "      <td>60</td>\n",
       "      <td>N</td>\n",
       "      <td>Pass</td>\n",
       "    </tr>\n",
       "    <tr>\n",
       "      <th>...</th>\n",
       "      <td>...</td>\n",
       "      <td>...</td>\n",
       "      <td>...</td>\n",
       "      <td>...</td>\n",
       "      <td>...</td>\n",
       "      <td>...</td>\n",
       "      <td>...</td>\n",
       "      <td>...</td>\n",
       "      <td>...</td>\n",
       "      <td>...</td>\n",
       "      <td>...</td>\n",
       "      <td>...</td>\n",
       "    </tr>\n",
       "    <tr>\n",
       "      <th>30552</th>\n",
       "      <td>GGG</td>\n",
       "      <td>2013J</td>\n",
       "      <td>589914</td>\n",
       "      <td>M</td>\n",
       "      <td>North Region</td>\n",
       "      <td>Lower Than A Level</td>\n",
       "      <td>NaN</td>\n",
       "      <td>0-35</td>\n",
       "      <td>0</td>\n",
       "      <td>30</td>\n",
       "      <td>N</td>\n",
       "      <td>Pass</td>\n",
       "    </tr>\n",
       "    <tr>\n",
       "      <th>31170</th>\n",
       "      <td>GGG</td>\n",
       "      <td>2014B</td>\n",
       "      <td>575199</td>\n",
       "      <td>F</td>\n",
       "      <td>North Western Region</td>\n",
       "      <td>Lower Than A Level</td>\n",
       "      <td>NaN</td>\n",
       "      <td>0-35</td>\n",
       "      <td>0</td>\n",
       "      <td>30</td>\n",
       "      <td>N</td>\n",
       "      <td>Pass</td>\n",
       "    </tr>\n",
       "    <tr>\n",
       "      <th>31389</th>\n",
       "      <td>GGG</td>\n",
       "      <td>2014B</td>\n",
       "      <td>617889</td>\n",
       "      <td>F</td>\n",
       "      <td>South West Region</td>\n",
       "      <td>Lower Than A Level</td>\n",
       "      <td>NaN</td>\n",
       "      <td>0-35</td>\n",
       "      <td>0</td>\n",
       "      <td>30</td>\n",
       "      <td>N</td>\n",
       "      <td>Fail</td>\n",
       "    </tr>\n",
       "    <tr>\n",
       "      <th>31777</th>\n",
       "      <td>GGG</td>\n",
       "      <td>2014B</td>\n",
       "      <td>634470</td>\n",
       "      <td>F</td>\n",
       "      <td>South Region</td>\n",
       "      <td>A Level or Equivalent</td>\n",
       "      <td>NaN</td>\n",
       "      <td>0-35</td>\n",
       "      <td>0</td>\n",
       "      <td>30</td>\n",
       "      <td>N</td>\n",
       "      <td>Pass</td>\n",
       "    </tr>\n",
       "    <tr>\n",
       "      <th>32397</th>\n",
       "      <td>GGG</td>\n",
       "      <td>2014J</td>\n",
       "      <td>683974</td>\n",
       "      <td>F</td>\n",
       "      <td>North Region</td>\n",
       "      <td>Lower Than A Level</td>\n",
       "      <td>NaN</td>\n",
       "      <td>0-35</td>\n",
       "      <td>0</td>\n",
       "      <td>30</td>\n",
       "      <td>N</td>\n",
       "      <td>Pass</td>\n",
       "    </tr>\n",
       "  </tbody>\n",
       "</table>\n",
       "<p>1111 rows × 12 columns</p>\n",
       "</div>"
      ],
      "text/plain": [
       "      code_module code_presentation  id_student gender                region  \\\n",
       "9             AAA             2013J       53025      M          North Region   \n",
       "17            AAA             2013J       71361      M               Ireland   \n",
       "28            AAA             2013J      104476      M               Ireland   \n",
       "34            AAA             2013J      114017      F          North Region   \n",
       "65            AAA             2013J      172112      M               Ireland   \n",
       "...           ...               ...         ...    ...                   ...   \n",
       "30552         GGG             2013J      589914      M          North Region   \n",
       "31170         GGG             2014B      575199      F  North Western Region   \n",
       "31389         GGG             2014B      617889      F     South West Region   \n",
       "31777         GGG             2014B      634470      F          South Region   \n",
       "32397         GGG             2014J      683974      F          North Region   \n",
       "\n",
       "                 highest_education imd_band age_band  num_of_prev_attempts  \\\n",
       "9      Post Graduate Qualification      NaN     55<=                     0   \n",
       "17                HE Qualification      NaN    35-55                     0   \n",
       "28     Post Graduate Qualification      NaN    35-55                     0   \n",
       "34     Post Graduate Qualification      NaN    35-55                     0   \n",
       "65                HE Qualification      NaN    35-55                     0   \n",
       "...                            ...      ...      ...                   ...   \n",
       "30552           Lower Than A Level      NaN     0-35                     0   \n",
       "31170           Lower Than A Level      NaN     0-35                     0   \n",
       "31389           Lower Than A Level      NaN     0-35                     0   \n",
       "31777        A Level or Equivalent      NaN     0-35                     0   \n",
       "32397           Lower Than A Level      NaN     0-35                     0   \n",
       "\n",
       "       studied_credits disability final_result  \n",
       "9                   60          N         Pass  \n",
       "17                  60          N         Pass  \n",
       "28                  60          N         Pass  \n",
       "34                  60          N         Pass  \n",
       "65                  60          N         Pass  \n",
       "...                ...        ...          ...  \n",
       "30552               30          N         Pass  \n",
       "31170               30          N         Pass  \n",
       "31389               30          N         Fail  \n",
       "31777               30          N         Pass  \n",
       "32397               30          N         Pass  \n",
       "\n",
       "[1111 rows x 12 columns]"
      ]
     },
     "execution_count": 56,
     "metadata": {},
     "output_type": "execute_result"
    }
   ],
   "source": [
    "# This is where the null values are. \n",
    "studentInfo.loc[studentInfo['imd_band'].isnull()]"
   ]
  },
  {
   "cell_type": "code",
   "execution_count": 57,
   "metadata": {},
   "outputs": [],
   "source": [
    "# We can decide to drop the null values. Sometimes you could use mode or mean to fill the null values, but for our purposes we'll drop them.\n",
    "studentInfo.dropna(subset=['imd_band'], inplace=True)"
   ]
  },
  {
   "cell_type": "code",
   "execution_count": 58,
   "metadata": {},
   "outputs": [
    {
     "data": {
      "text/plain": [
       "array(['90-100%', '20-30%', '30-40%', '50-60%', '80-90%', '70-80%',\n",
       "       '60-70%', '40-50%', '10-20', '0-10%'], dtype=object)"
      ]
     },
     "execution_count": 58,
     "metadata": {},
     "output_type": "execute_result"
    }
   ],
   "source": [
    "#  unique values \n",
    "studentInfo['imd_band'].unique()"
   ]
  },
  {
   "cell_type": "code",
   "execution_count": 59,
   "metadata": {},
   "outputs": [],
   "source": [
    "# add '%' to 10-20 since it's missing :) \n",
    "studentInfo.loc[studentInfo['imd_band'] == '10-20', 'imd_band'] = '10-20%'"
   ]
  },
  {
   "cell_type": "code",
   "execution_count": 60,
   "metadata": {},
   "outputs": [
    {
     "data": {
      "text/plain": [
       "array(['90-100%', '20-30%', '30-40%', '50-60%', '80-90%', '70-80%',\n",
       "       '60-70%', '40-50%', '10-20%', '0-10%'], dtype=object)"
      ]
     },
     "execution_count": 60,
     "metadata": {},
     "output_type": "execute_result"
    }
   ],
   "source": [
    "studentInfo['imd_band'].unique()"
   ]
  },
  {
   "cell_type": "code",
   "execution_count": 61,
   "metadata": {},
   "outputs": [
    {
     "data": {
      "text/html": [
       "<div>\n",
       "<style scoped>\n",
       "    .dataframe tbody tr th:only-of-type {\n",
       "        vertical-align: middle;\n",
       "    }\n",
       "\n",
       "    .dataframe tbody tr th {\n",
       "        vertical-align: top;\n",
       "    }\n",
       "\n",
       "    .dataframe thead th {\n",
       "        text-align: right;\n",
       "    }\n",
       "</style>\n",
       "<table border=\"1\" class=\"dataframe\">\n",
       "  <thead>\n",
       "    <tr style=\"text-align: right;\">\n",
       "      <th></th>\n",
       "      <th>imd_band</th>\n",
       "      <th>id_student</th>\n",
       "    </tr>\n",
       "  </thead>\n",
       "  <tbody>\n",
       "    <tr>\n",
       "      <th>0</th>\n",
       "      <td>0-10%</td>\n",
       "      <td>3311</td>\n",
       "    </tr>\n",
       "    <tr>\n",
       "      <th>1</th>\n",
       "      <td>10-20%</td>\n",
       "      <td>3516</td>\n",
       "    </tr>\n",
       "    <tr>\n",
       "      <th>2</th>\n",
       "      <td>20-30%</td>\n",
       "      <td>3654</td>\n",
       "    </tr>\n",
       "    <tr>\n",
       "      <th>3</th>\n",
       "      <td>30-40%</td>\n",
       "      <td>3539</td>\n",
       "    </tr>\n",
       "    <tr>\n",
       "      <th>4</th>\n",
       "      <td>40-50%</td>\n",
       "      <td>3256</td>\n",
       "    </tr>\n",
       "    <tr>\n",
       "      <th>5</th>\n",
       "      <td>50-60%</td>\n",
       "      <td>3124</td>\n",
       "    </tr>\n",
       "    <tr>\n",
       "      <th>6</th>\n",
       "      <td>60-70%</td>\n",
       "      <td>2905</td>\n",
       "    </tr>\n",
       "    <tr>\n",
       "      <th>7</th>\n",
       "      <td>70-80%</td>\n",
       "      <td>2879</td>\n",
       "    </tr>\n",
       "    <tr>\n",
       "      <th>8</th>\n",
       "      <td>80-90%</td>\n",
       "      <td>2762</td>\n",
       "    </tr>\n",
       "    <tr>\n",
       "      <th>9</th>\n",
       "      <td>90-100%</td>\n",
       "      <td>2536</td>\n",
       "    </tr>\n",
       "  </tbody>\n",
       "</table>\n",
       "</div>"
      ],
      "text/plain": [
       "  imd_band  id_student\n",
       "0    0-10%        3311\n",
       "1   10-20%        3516\n",
       "2   20-30%        3654\n",
       "3   30-40%        3539\n",
       "4   40-50%        3256\n",
       "5   50-60%        3124\n",
       "6   60-70%        2905\n",
       "7   70-80%        2879\n",
       "8   80-90%        2762\n",
       "9  90-100%        2536"
      ]
     },
     "execution_count": 61,
     "metadata": {},
     "output_type": "execute_result"
    }
   ],
   "source": [
    "imd_band_count = studentInfo.groupby(['imd_band'])['id_student'].count().reset_index()\n",
    "imd_band_count"
   ]
  },
  {
   "cell_type": "code",
   "execution_count": 62,
   "metadata": {},
   "outputs": [
    {
     "data": {
      "text/plain": [
       "Text(0.5, 0, 'IMD Band')"
      ]
     },
     "execution_count": 62,
     "metadata": {},
     "output_type": "execute_result"
    },
    {
     "data": {
      "image/png": "[encoded data removed]",
      "text/plain": [
       "<Figure size 432x288 with 1 Axes>"
      ]
     },
     "metadata": {
      "needs_background": "light"
     },
     "output_type": "display_data"
    }
   ],
   "source": [
    "imb = sns.barplot(x=\"imd_band\", y=\"id_student\", data=imd_band_count, color='navy')\n",
    "imb.set_xticklabels(imb.get_xticklabels(), rotation=40, ha=\"right\")\n",
    "imb.set_title('Distribution of Students in Different IMD Bands')\n",
    "imb.set_ylabel('Number of Students')\n",
    "imb.set_xlabel('IMD Band')"
   ]
  },
  {
   "cell_type": "code",
   "execution_count": 63,
   "metadata": {},
   "outputs": [],
   "source": [
    "imdband_score = studentInfo.groupby(['imd_band'])['final_result'].value_counts()"
   ]
  },
  {
   "cell_type": "code",
   "execution_count": 64,
   "metadata": {},
   "outputs": [
    {
     "data": {
      "text/plain": [
       "imd_band  final_result\n",
       "0-10%     Fail            2147\n",
       "          Pass            1164\n",
       "10-20%    Fail            2158\n",
       "          Pass            1358\n",
       "20-30%    Fail            2165\n",
       "          Pass            1489\n",
       "30-40%    Fail            1879\n",
       "          Pass            1660\n",
       "40-50%    Fail            1739\n",
       "          Pass            1517\n",
       "50-60%    Fail            1600\n",
       "          Pass            1524\n",
       "60-70%    Pass            1508\n",
       "          Fail            1397\n",
       "70-80%    Pass            1483\n",
       "          Fail            1396\n",
       "80-90%    Pass            1493\n",
       "          Fail            1269\n",
       "90-100%   Pass            1459\n",
       "          Fail            1077\n",
       "Name: final_result, dtype: int64"
      ]
     },
     "execution_count": 64,
     "metadata": {},
     "output_type": "execute_result"
    }
   ],
   "source": [
    "imdband_score"
   ]
  },
  {
   "cell_type": "code",
   "execution_count": 65,
   "metadata": {},
   "outputs": [
    {
     "data": {
      "image/png": "[encoded data removed]",
      "text/plain": [
       "<Figure size 432x288 with 1 Axes>"
      ]
     },
     "metadata": {
      "needs_background": "light"
     },
     "output_type": "display_data"
    }
   ],
   "source": [
    "stacked_percent(imdband_score, 'in Different IMD Bands')"
   ]
  },
  {
   "cell_type": "code",
   "execution_count": 66,
   "metadata": {},
   "outputs": [],
   "source": [
    "# identifying students who dropped\n",
    "studentRegistration_dropped = studentRegistration.loc[~studentRegistration['date_unregistration'].isnull()]"
   ]
  },
  {
   "cell_type": "code",
   "execution_count": 67,
   "metadata": {},
   "outputs": [
    {
     "data": {
      "text/html": [
       "<div>\n",
       "<style scoped>\n",
       "    .dataframe tbody tr th:only-of-type {\n",
       "        vertical-align: middle;\n",
       "    }\n",
       "\n",
       "    .dataframe tbody tr th {\n",
       "        vertical-align: top;\n",
       "    }\n",
       "\n",
       "    .dataframe thead th {\n",
       "        text-align: right;\n",
       "    }\n",
       "</style>\n",
       "<table border=\"1\" class=\"dataframe\">\n",
       "  <thead>\n",
       "    <tr style=\"text-align: right;\">\n",
       "      <th></th>\n",
       "      <th>code_module</th>\n",
       "      <th>code_presentation</th>\n",
       "      <th>id_student</th>\n",
       "      <th>date_registration</th>\n",
       "      <th>date_unregistration</th>\n",
       "    </tr>\n",
       "  </thead>\n",
       "  <tbody>\n",
       "    <tr>\n",
       "      <th>26576</th>\n",
       "      <td>FFF</td>\n",
       "      <td>2014B</td>\n",
       "      <td>535460</td>\n",
       "      <td>NaN</td>\n",
       "      <td>-365.0</td>\n",
       "    </tr>\n",
       "    <tr>\n",
       "      <th>5305</th>\n",
       "      <td>BBB</td>\n",
       "      <td>2014B</td>\n",
       "      <td>571732</td>\n",
       "      <td>-322.0</td>\n",
       "      <td>-317.0</td>\n",
       "    </tr>\n",
       "    <tr>\n",
       "      <th>26318</th>\n",
       "      <td>FFF</td>\n",
       "      <td>2014B</td>\n",
       "      <td>301128</td>\n",
       "      <td>-305.0</td>\n",
       "      <td>-297.0</td>\n",
       "    </tr>\n",
       "    <tr>\n",
       "      <th>16430</th>\n",
       "      <td>DDD</td>\n",
       "      <td>2014B</td>\n",
       "      <td>263022</td>\n",
       "      <td>-295.0</td>\n",
       "      <td>-274.0</td>\n",
       "    </tr>\n",
       "    <tr>\n",
       "      <th>13578</th>\n",
       "      <td>DDD</td>\n",
       "      <td>2013B</td>\n",
       "      <td>485943</td>\n",
       "      <td>-274.0</td>\n",
       "      <td>-271.0</td>\n",
       "    </tr>\n",
       "    <tr>\n",
       "      <th>...</th>\n",
       "      <td>...</td>\n",
       "      <td>...</td>\n",
       "      <td>...</td>\n",
       "      <td>...</td>\n",
       "      <td>...</td>\n",
       "    </tr>\n",
       "    <tr>\n",
       "      <th>404</th>\n",
       "      <td>AAA</td>\n",
       "      <td>2014J</td>\n",
       "      <td>95755</td>\n",
       "      <td>-80.0</td>\n",
       "      <td>241.0</td>\n",
       "    </tr>\n",
       "    <tr>\n",
       "      <th>3353</th>\n",
       "      <td>BBB</td>\n",
       "      <td>2013J</td>\n",
       "      <td>556427</td>\n",
       "      <td>-107.0</td>\n",
       "      <td>241.0</td>\n",
       "    </tr>\n",
       "    <tr>\n",
       "      <th>3047</th>\n",
       "      <td>BBB</td>\n",
       "      <td>2013J</td>\n",
       "      <td>498841</td>\n",
       "      <td>-29.0</td>\n",
       "      <td>241.0</td>\n",
       "    </tr>\n",
       "    <tr>\n",
       "      <th>311</th>\n",
       "      <td>AAA</td>\n",
       "      <td>2013J</td>\n",
       "      <td>2391984</td>\n",
       "      <td>-101.0</td>\n",
       "      <td>242.0</td>\n",
       "    </tr>\n",
       "    <tr>\n",
       "      <th>25249</th>\n",
       "      <td>FFF</td>\n",
       "      <td>2013J</td>\n",
       "      <td>586851</td>\n",
       "      <td>-22.0</td>\n",
       "      <td>444.0</td>\n",
       "    </tr>\n",
       "  </tbody>\n",
       "</table>\n",
       "<p>10072 rows × 5 columns</p>\n",
       "</div>"
      ],
      "text/plain": [
       "      code_module code_presentation  id_student  date_registration  \\\n",
       "26576         FFF             2014B      535460                NaN   \n",
       "5305          BBB             2014B      571732             -322.0   \n",
       "26318         FFF             2014B      301128             -305.0   \n",
       "16430         DDD             2014B      263022             -295.0   \n",
       "13578         DDD             2013B      485943             -274.0   \n",
       "...           ...               ...         ...                ...   \n",
       "404           AAA             2014J       95755              -80.0   \n",
       "3353          BBB             2013J      556427             -107.0   \n",
       "3047          BBB             2013J      498841              -29.0   \n",
       "311           AAA             2013J     2391984             -101.0   \n",
       "25249         FFF             2013J      586851              -22.0   \n",
       "\n",
       "       date_unregistration  \n",
       "26576               -365.0  \n",
       "5305                -317.0  \n",
       "26318               -297.0  \n",
       "16430               -274.0  \n",
       "13578               -271.0  \n",
       "...                    ...  \n",
       "404                  241.0  \n",
       "3353                 241.0  \n",
       "3047                 241.0  \n",
       "311                  242.0  \n",
       "25249                444.0  \n",
       "\n",
       "[10072 rows x 5 columns]"
      ]
     },
     "execution_count": 67,
     "metadata": {},
     "output_type": "execute_result"
    }
   ],
   "source": [
    "studentRegistration_dropped.sort_values(by='date_unregistration')"
   ]
  },
  {
   "cell_type": "code",
   "execution_count": 68,
   "metadata": {},
   "outputs": [
    {
     "data": {
      "text/plain": [
       "count    10072.000000\n",
       "mean        49.757645\n",
       "std         82.460890\n",
       "min       -365.000000\n",
       "25%         -2.000000\n",
       "50%         27.000000\n",
       "75%        109.000000\n",
       "max        444.000000\n",
       "Name: date_unregistration, dtype: float64"
      ]
     },
     "execution_count": 68,
     "metadata": {},
     "output_type": "execute_result"
    }
   ],
   "source": [
    "studentRegistration_dropped['date_unregistration'].describe()"
   ]
  },
  {
   "cell_type": "code",
   "execution_count": 69,
   "metadata": {
    "scrolled": true
   },
   "outputs": [
    {
     "data": {
      "text/plain": [
       "[Text(0.5, 1.0, 'Distribution of Withdrawals')]"
      ]
     },
     "execution_count": 69,
     "metadata": {},
     "output_type": "execute_result"
    },
    {
     "data": {
      "image/png": "[encoded data removed]",
      "text/plain": [
       "<Figure size 432x288 with 1 Axes>"
      ]
     },
     "metadata": {
      "needs_background": "light"
     },
     "output_type": "display_data"
    }
   ],
   "source": [
    "u = sns.histplot(x='date_unregistration', data=studentRegistration_dropped, color='navy', stat=\"density\", element='poly', fill=False)\n",
    "u.set(title='Distribution of Withdrawals')"
   ]
  },
  {
   "cell_type": "code",
   "execution_count": 70,
   "metadata": {},
   "outputs": [
    {
     "data": {
      "text/html": [
       "<div>\n",
       "<style scoped>\n",
       "    .dataframe tbody tr th:only-of-type {\n",
       "        vertical-align: middle;\n",
       "    }\n",
       "\n",
       "    .dataframe tbody tr th {\n",
       "        vertical-align: top;\n",
       "    }\n",
       "\n",
       "    .dataframe thead th {\n",
       "        text-align: right;\n",
       "    }\n",
       "</style>\n",
       "<table border=\"1\" class=\"dataframe\">\n",
       "  <thead>\n",
       "    <tr style=\"text-align: right;\">\n",
       "      <th></th>\n",
       "      <th>code_module</th>\n",
       "      <th>code_presentation</th>\n",
       "      <th>id_student</th>\n",
       "      <th>gender</th>\n",
       "      <th>imd_band</th>\n",
       "      <th>age_band</th>\n",
       "      <th>disability</th>\n",
       "      <th>date_registration</th>\n",
       "      <th>date_unregistration</th>\n",
       "    </tr>\n",
       "  </thead>\n",
       "  <tbody>\n",
       "    <tr>\n",
       "      <th>0</th>\n",
       "      <td>AAA</td>\n",
       "      <td>2013J</td>\n",
       "      <td>30268</td>\n",
       "      <td>F</td>\n",
       "      <td>30-40%</td>\n",
       "      <td>35-55</td>\n",
       "      <td>Y</td>\n",
       "      <td>-92.0</td>\n",
       "      <td>12.0</td>\n",
       "    </tr>\n",
       "    <tr>\n",
       "      <th>1</th>\n",
       "      <td>AAA</td>\n",
       "      <td>2013J</td>\n",
       "      <td>65002</td>\n",
       "      <td>F</td>\n",
       "      <td>70-80%</td>\n",
       "      <td>0-35</td>\n",
       "      <td>N</td>\n",
       "      <td>-180.0</td>\n",
       "      <td>96.0</td>\n",
       "    </tr>\n",
       "    <tr>\n",
       "      <th>2</th>\n",
       "      <td>AAA</td>\n",
       "      <td>2013J</td>\n",
       "      <td>94961</td>\n",
       "      <td>M</td>\n",
       "      <td>70-80%</td>\n",
       "      <td>35-55</td>\n",
       "      <td>N</td>\n",
       "      <td>-170.0</td>\n",
       "      <td>72.0</td>\n",
       "    </tr>\n",
       "    <tr>\n",
       "      <th>3</th>\n",
       "      <td>AAA</td>\n",
       "      <td>2013J</td>\n",
       "      <td>106247</td>\n",
       "      <td>M</td>\n",
       "      <td>80-90%</td>\n",
       "      <td>35-55</td>\n",
       "      <td>N</td>\n",
       "      <td>5.0</td>\n",
       "      <td>175.0</td>\n",
       "    </tr>\n",
       "    <tr>\n",
       "      <th>4</th>\n",
       "      <td>AAA</td>\n",
       "      <td>2013J</td>\n",
       "      <td>129955</td>\n",
       "      <td>M</td>\n",
       "      <td>50-60%</td>\n",
       "      <td>0-35</td>\n",
       "      <td>N</td>\n",
       "      <td>-197.0</td>\n",
       "      <td>135.0</td>\n",
       "    </tr>\n",
       "    <tr>\n",
       "      <th>5</th>\n",
       "      <td>AAA</td>\n",
       "      <td>2013J</td>\n",
       "      <td>135335</td>\n",
       "      <td>F</td>\n",
       "      <td>20-30%</td>\n",
       "      <td>0-35</td>\n",
       "      <td>N</td>\n",
       "      <td>-29.0</td>\n",
       "      <td>30.0</td>\n",
       "    </tr>\n",
       "    <tr>\n",
       "      <th>6</th>\n",
       "      <td>AAA</td>\n",
       "      <td>2013J</td>\n",
       "      <td>135400</td>\n",
       "      <td>F</td>\n",
       "      <td>90-100%</td>\n",
       "      <td>35-55</td>\n",
       "      <td>Y</td>\n",
       "      <td>-32.0</td>\n",
       "      <td>144.0</td>\n",
       "    </tr>\n",
       "    <tr>\n",
       "      <th>7</th>\n",
       "      <td>AAA</td>\n",
       "      <td>2013J</td>\n",
       "      <td>141377</td>\n",
       "      <td>M</td>\n",
       "      <td>90-100%</td>\n",
       "      <td>0-35</td>\n",
       "      <td>N</td>\n",
       "      <td>-110.0</td>\n",
       "      <td>129.0</td>\n",
       "    </tr>\n",
       "    <tr>\n",
       "      <th>8</th>\n",
       "      <td>AAA</td>\n",
       "      <td>2013J</td>\n",
       "      <td>147793</td>\n",
       "      <td>F</td>\n",
       "      <td>80-90%</td>\n",
       "      <td>0-35</td>\n",
       "      <td>N</td>\n",
       "      <td>-138.0</td>\n",
       "      <td>58.0</td>\n",
       "    </tr>\n",
       "    <tr>\n",
       "      <th>9</th>\n",
       "      <td>AAA</td>\n",
       "      <td>2013J</td>\n",
       "      <td>148993</td>\n",
       "      <td>F</td>\n",
       "      <td>30-40%</td>\n",
       "      <td>35-55</td>\n",
       "      <td>Y</td>\n",
       "      <td>-174.0</td>\n",
       "      <td>158.0</td>\n",
       "    </tr>\n",
       "  </tbody>\n",
       "</table>\n",
       "</div>"
      ],
      "text/plain": [
       "  code_module code_presentation  id_student gender imd_band age_band  \\\n",
       "0         AAA             2013J       30268      F   30-40%    35-55   \n",
       "1         AAA             2013J       65002      F   70-80%     0-35   \n",
       "2         AAA             2013J       94961      M   70-80%    35-55   \n",
       "3         AAA             2013J      106247      M   80-90%    35-55   \n",
       "4         AAA             2013J      129955      M   50-60%     0-35   \n",
       "5         AAA             2013J      135335      F   20-30%     0-35   \n",
       "6         AAA             2013J      135400      F  90-100%    35-55   \n",
       "7         AAA             2013J      141377      M  90-100%     0-35   \n",
       "8         AAA             2013J      147793      F   80-90%     0-35   \n",
       "9         AAA             2013J      148993      F   30-40%    35-55   \n",
       "\n",
       "  disability  date_registration  date_unregistration  \n",
       "0          Y              -92.0                 12.0  \n",
       "1          N             -180.0                 96.0  \n",
       "2          N             -170.0                 72.0  \n",
       "3          N                5.0                175.0  \n",
       "4          N             -197.0                135.0  \n",
       "5          N              -29.0                 30.0  \n",
       "6          Y              -32.0                144.0  \n",
       "7          N             -110.0                129.0  \n",
       "8          N             -138.0                 58.0  \n",
       "9          Y             -174.0                158.0  "
      ]
     },
     "execution_count": 70,
     "metadata": {},
     "output_type": "execute_result"
    }
   ],
   "source": [
    "# merge studentInfo table with registration data to analyze cohorts \n",
    "studentInfoReg = pd.merge(studentInfo[['code_module', 'code_presentation', 'id_student', 'gender', 'imd_band', 'age_band', 'disability']], studentRegistration_dropped, on=['code_module', 'code_presentation', 'id_student'])\n",
    "\n",
    "studentInfoReg.head(10)"
   ]
  },
  {
   "cell_type": "code",
   "execution_count": 71,
   "metadata": {},
   "outputs": [
    {
     "data": {
      "text/plain": [
       "(-150.0, 150.0)"
      ]
     },
     "execution_count": 71,
     "metadata": {},
     "output_type": "execute_result"
    },
    {
     "data": {
      "image/png": "[encoded data removed]",
      "text/plain": [
       "<Figure size 432x288 with 1 Axes>"
      ]
     },
     "metadata": {
      "needs_background": "light"
     },
     "output_type": "display_data"
    }
   ],
   "source": [
    "w_disability = sns.histplot(x='date_unregistration', data=studentInfoReg[['disability', 'date_unregistration']], hue='disability', palette={'Y': 'orange', 'N': 'navy'}, stat=\"density\", common_norm=False, element='poly', fill=False)\n",
    "w_disability.set(title='Distribution of Withdrawals: Disability')\n",
    "w_disability.set_xlim(-150, 150)"
   ]
  },
  {
   "cell_type": "code",
   "execution_count": 72,
   "metadata": {},
   "outputs": [
    {
     "data": {
      "text/html": [
       "<div>\n",
       "<style scoped>\n",
       "    .dataframe tbody tr th:only-of-type {\n",
       "        vertical-align: middle;\n",
       "    }\n",
       "\n",
       "    .dataframe tbody tr th {\n",
       "        vertical-align: top;\n",
       "    }\n",
       "\n",
       "    .dataframe thead th {\n",
       "        text-align: right;\n",
       "    }\n",
       "</style>\n",
       "<table border=\"1\" class=\"dataframe\">\n",
       "  <thead>\n",
       "    <tr style=\"text-align: right;\">\n",
       "      <th></th>\n",
       "      <th>count</th>\n",
       "      <th>mean</th>\n",
       "      <th>std</th>\n",
       "      <th>min</th>\n",
       "      <th>25%</th>\n",
       "      <th>50%</th>\n",
       "      <th>75%</th>\n",
       "      <th>max</th>\n",
       "    </tr>\n",
       "    <tr>\n",
       "      <th>disability</th>\n",
       "      <th></th>\n",
       "      <th></th>\n",
       "      <th></th>\n",
       "      <th></th>\n",
       "      <th></th>\n",
       "      <th></th>\n",
       "      <th></th>\n",
       "      <th></th>\n",
       "    </tr>\n",
       "  </thead>\n",
       "  <tbody>\n",
       "    <tr>\n",
       "      <th>N</th>\n",
       "      <td>8616.0</td>\n",
       "      <td>48.285283</td>\n",
       "      <td>82.108055</td>\n",
       "      <td>-365.0</td>\n",
       "      <td>-2.0</td>\n",
       "      <td>27.0</td>\n",
       "      <td>108.0</td>\n",
       "      <td>444.0</td>\n",
       "    </tr>\n",
       "    <tr>\n",
       "      <th>Y</th>\n",
       "      <td>1221.0</td>\n",
       "      <td>56.714988</td>\n",
       "      <td>82.841003</td>\n",
       "      <td>-225.0</td>\n",
       "      <td>0.0</td>\n",
       "      <td>41.0</td>\n",
       "      <td>118.0</td>\n",
       "      <td>237.0</td>\n",
       "    </tr>\n",
       "  </tbody>\n",
       "</table>\n",
       "</div>"
      ],
      "text/plain": [
       "             count       mean        std    min  25%   50%    75%    max\n",
       "disability                                                              \n",
       "N           8616.0  48.285283  82.108055 -365.0 -2.0  27.0  108.0  444.0\n",
       "Y           1221.0  56.714988  82.841003 -225.0  0.0  41.0  118.0  237.0"
      ]
     },
     "execution_count": 72,
     "metadata": {},
     "output_type": "execute_result"
    }
   ],
   "source": [
    "studentInfoReg.groupby('disability')['date_unregistration'].describe()"
   ]
  },
  {
   "cell_type": "code",
   "execution_count": 73,
   "metadata": {},
   "outputs": [
    {
     "data": {
      "text/plain": [
       "(-100.0, 150.0)"
      ]
     },
     "execution_count": 73,
     "metadata": {},
     "output_type": "execute_result"
    },
    {
     "data": {
      "image/png": "[encoded data removed]",
      "text/plain": [
       "<Figure size 432x288 with 1 Axes>"
      ]
     },
     "metadata": {
      "needs_background": "light"
     },
     "output_type": "display_data"
    }
   ],
   "source": [
    "w_age = sns.histplot(x='date_unregistration', data=studentInfoReg[['age_band', 'date_unregistration']], hue='age_band', palette={'55<=': 'orange', '35-55': 'navy', '0-35': 'grey'}, stat=\"density\", common_norm=False, element='poly', fill=False)\n",
    "w_age.set(title='Distribution of Withdrawals: Age')\n",
    "w_age.set_xlim(-100, 150)"
   ]
  },
  {
   "cell_type": "code",
   "execution_count": 74,
   "metadata": {},
   "outputs": [
    {
     "data": {
      "text/html": [
       "<div>\n",
       "<style scoped>\n",
       "    .dataframe tbody tr th:only-of-type {\n",
       "        vertical-align: middle;\n",
       "    }\n",
       "\n",
       "    .dataframe tbody tr th {\n",
       "        vertical-align: top;\n",
       "    }\n",
       "\n",
       "    .dataframe thead th {\n",
       "        text-align: right;\n",
       "    }\n",
       "</style>\n",
       "<table border=\"1\" class=\"dataframe\">\n",
       "  <thead>\n",
       "    <tr style=\"text-align: right;\">\n",
       "      <th></th>\n",
       "      <th>count</th>\n",
       "      <th>mean</th>\n",
       "      <th>std</th>\n",
       "      <th>min</th>\n",
       "      <th>25%</th>\n",
       "      <th>50%</th>\n",
       "      <th>75%</th>\n",
       "      <th>max</th>\n",
       "    </tr>\n",
       "    <tr>\n",
       "      <th>age_band</th>\n",
       "      <th></th>\n",
       "      <th></th>\n",
       "      <th></th>\n",
       "      <th></th>\n",
       "      <th></th>\n",
       "      <th></th>\n",
       "      <th></th>\n",
       "      <th></th>\n",
       "    </tr>\n",
       "  </thead>\n",
       "  <tbody>\n",
       "    <tr>\n",
       "      <th>0-35</th>\n",
       "      <td>7194.0</td>\n",
       "      <td>48.085488</td>\n",
       "      <td>81.918125</td>\n",
       "      <td>-365.0</td>\n",
       "      <td>-2.0</td>\n",
       "      <td>27.0</td>\n",
       "      <td>106.75</td>\n",
       "      <td>444.0</td>\n",
       "    </tr>\n",
       "    <tr>\n",
       "      <th>35-55</th>\n",
       "      <td>2596.0</td>\n",
       "      <td>52.622881</td>\n",
       "      <td>82.980467</td>\n",
       "      <td>-317.0</td>\n",
       "      <td>-2.0</td>\n",
       "      <td>33.0</td>\n",
       "      <td>115.00</td>\n",
       "      <td>240.0</td>\n",
       "    </tr>\n",
       "    <tr>\n",
       "      <th>55&lt;=</th>\n",
       "      <td>47.0</td>\n",
       "      <td>58.276596</td>\n",
       "      <td>86.933433</td>\n",
       "      <td>-127.0</td>\n",
       "      <td>1.5</td>\n",
       "      <td>46.0</td>\n",
       "      <td>125.00</td>\n",
       "      <td>226.0</td>\n",
       "    </tr>\n",
       "  </tbody>\n",
       "</table>\n",
       "</div>"
      ],
      "text/plain": [
       "           count       mean        std    min  25%   50%     75%    max\n",
       "age_band                                                               \n",
       "0-35      7194.0  48.085488  81.918125 -365.0 -2.0  27.0  106.75  444.0\n",
       "35-55     2596.0  52.622881  82.980467 -317.0 -2.0  33.0  115.00  240.0\n",
       "55<=        47.0  58.276596  86.933433 -127.0  1.5  46.0  125.00  226.0"
      ]
     },
     "execution_count": 74,
     "metadata": {},
     "output_type": "execute_result"
    }
   ],
   "source": [
    "studentInfoReg.groupby('age_band')['date_unregistration'].describe()"
   ]
  },
  {
   "cell_type": "code",
   "execution_count": 75,
   "metadata": {
    "scrolled": true
   },
   "outputs": [
    {
     "data": {
      "text/plain": [
       "(-100.0, 150.0)"
      ]
     },
     "execution_count": 75,
     "metadata": {},
     "output_type": "execute_result"
    },
    {
     "data": {
      "image/png": "[encoded data removed]",
      "text/plain": [
       "<Figure size 432x288 with 1 Axes>"
      ]
     },
     "metadata": {
      "needs_background": "light"
     },
     "output_type": "display_data"
    }
   ],
   "source": [
    "w_gender = sns.histplot(x='date_unregistration', data=studentInfoReg[['gender', 'date_unregistration']], hue='gender', palette={'M': 'orange', 'F': 'navy'}, stat=\"density\", common_norm=False, element='poly', fill=False)\n",
    "w_gender.set(title='Distribution of Withdrawals: Gender')\n",
    "w_gender.set_xlim(-100, 150)"
   ]
  },
  {
   "cell_type": "code",
   "execution_count": 76,
   "metadata": {},
   "outputs": [
    {
     "data": {
      "text/html": [
       "<div>\n",
       "<style scoped>\n",
       "    .dataframe tbody tr th:only-of-type {\n",
       "        vertical-align: middle;\n",
       "    }\n",
       "\n",
       "    .dataframe tbody tr th {\n",
       "        vertical-align: top;\n",
       "    }\n",
       "\n",
       "    .dataframe thead th {\n",
       "        text-align: right;\n",
       "    }\n",
       "</style>\n",
       "<table border=\"1\" class=\"dataframe\">\n",
       "  <thead>\n",
       "    <tr style=\"text-align: right;\">\n",
       "      <th></th>\n",
       "      <th>count</th>\n",
       "      <th>mean</th>\n",
       "      <th>std</th>\n",
       "      <th>min</th>\n",
       "      <th>25%</th>\n",
       "      <th>50%</th>\n",
       "      <th>75%</th>\n",
       "      <th>max</th>\n",
       "    </tr>\n",
       "    <tr>\n",
       "      <th>gender</th>\n",
       "      <th></th>\n",
       "      <th></th>\n",
       "      <th></th>\n",
       "      <th></th>\n",
       "      <th></th>\n",
       "      <th></th>\n",
       "      <th></th>\n",
       "      <th></th>\n",
       "    </tr>\n",
       "  </thead>\n",
       "  <tbody>\n",
       "    <tr>\n",
       "      <th>F</th>\n",
       "      <td>4387.0</td>\n",
       "      <td>45.973786</td>\n",
       "      <td>82.399539</td>\n",
       "      <td>-317.0</td>\n",
       "      <td>-7.0</td>\n",
       "      <td>24.0</td>\n",
       "      <td>104.0</td>\n",
       "      <td>241.0</td>\n",
       "    </tr>\n",
       "    <tr>\n",
       "      <th>M</th>\n",
       "      <td>5450.0</td>\n",
       "      <td>52.034495</td>\n",
       "      <td>82.022963</td>\n",
       "      <td>-365.0</td>\n",
       "      <td>0.0</td>\n",
       "      <td>31.5</td>\n",
       "      <td>110.0</td>\n",
       "      <td>444.0</td>\n",
       "    </tr>\n",
       "  </tbody>\n",
       "</table>\n",
       "</div>"
      ],
      "text/plain": [
       "         count       mean        std    min  25%   50%    75%    max\n",
       "gender                                                              \n",
       "F       4387.0  45.973786  82.399539 -317.0 -7.0  24.0  104.0  241.0\n",
       "M       5450.0  52.034495  82.022963 -365.0  0.0  31.5  110.0  444.0"
      ]
     },
     "execution_count": 76,
     "metadata": {},
     "output_type": "execute_result"
    }
   ],
   "source": [
    "studentInfoReg.groupby('gender')['date_unregistration'].describe()"
   ]
  },
  {
   "cell_type": "code",
   "execution_count": 77,
   "metadata": {},
   "outputs": [
    {
     "name": "stderr",
     "output_type": "stream",
     "text": [
      "/opt/anaconda3/lib/python3.7/site-packages/ipykernel_launcher.py:4: SettingWithCopyWarning: \n",
      "A value is trying to be set on a copy of a slice from a DataFrame.\n",
      "Try using .loc[row_indexer,col_indexer] = value instead\n",
      "\n",
      "See the caveats in the documentation: https://pandas.pydata.org/pandas-docs/stable/user_guide/indexing.html#returning-a-view-versus-a-copy\n",
      "  after removing the cwd from sys.path.\n",
      "/opt/anaconda3/lib/python3.7/site-packages/pandas/core/indexing.py:1596: SettingWithCopyWarning: \n",
      "A value is trying to be set on a copy of a slice from a DataFrame.\n",
      "Try using .loc[row_indexer,col_indexer] = value instead\n",
      "\n",
      "See the caveats in the documentation: https://pandas.pydata.org/pandas-docs/stable/user_guide/indexing.html#returning-a-view-versus-a-copy\n",
      "  self.obj[key] = _infer_fill_value(value)\n",
      "/opt/anaconda3/lib/python3.7/site-packages/pandas/core/indexing.py:1765: SettingWithCopyWarning: \n",
      "A value is trying to be set on a copy of a slice from a DataFrame.\n",
      "Try using .loc[row_indexer,col_indexer] = value instead\n",
      "\n",
      "See the caveats in the documentation: https://pandas.pydata.org/pandas-docs/stable/user_guide/indexing.html#returning-a-view-versus-a-copy\n",
      "  isetter(loc, value)\n"
     ]
    }
   ],
   "source": [
    "# bin imd_bands so that it's easier to plot\n",
    "imd_band_only = studentInfoReg[['id_student', 'imd_band', 'date_unregistration']]\n",
    "\n",
    "imd_band_only['imd_band'] = imd_band_only ['imd_band'].apply(lambda x: x[:-1])\n",
    "\n",
    "imd_band_bottom_half = sorted(imd_band_only['imd_band'].unique())[0:5]\n",
    "imd_band_upper_half = sorted(imd_band_only['imd_band'].unique())[5:]\n",
    "\n",
    "imd_band_only.loc[imd_band_only['imd_band'].str.contains('|'.join(imd_band_bottom_half)), 'imd_band_binned'] = '0-50'\n",
    "imd_band_only.loc[imd_band_only['imd_band'].str.contains('|'.join(imd_band_upper_half)), 'imd_band_binned'] = '50-100'"
   ]
  },
  {
   "cell_type": "code",
   "execution_count": 78,
   "metadata": {},
   "outputs": [
    {
     "data": {
      "text/plain": [
       "(-100.0, 150.0)"
      ]
     },
     "execution_count": 78,
     "metadata": {},
     "output_type": "execute_result"
    },
    {
     "data": {
      "image/png": "[encoded data removed]",
      "text/plain": [
       "<Figure size 432x288 with 1 Axes>"
      ]
     },
     "metadata": {
      "needs_background": "light"
     },
     "output_type": "display_data"
    }
   ],
   "source": [
    "w_imdband = sns.histplot(x='date_unregistration', data=imd_band_only[['imd_band_binned', 'date_unregistration']], hue='imd_band_binned', palette={'0-50': 'orange', '50-100': 'navy'}, stat=\"density\", common_norm=False, element='poly', fill=False)\n",
    "w_imdband.set(title='Distribution of Withdrawals: IMD Band')\n",
    "w_imdband.set_xlim(-100, 150)"
   ]
  },
  {
   "cell_type": "code",
   "execution_count": 79,
   "metadata": {},
   "outputs": [
    {
     "data": {
      "text/html": [
       "<div>\n",
       "<style scoped>\n",
       "    .dataframe tbody tr th:only-of-type {\n",
       "        vertical-align: middle;\n",
       "    }\n",
       "\n",
       "    .dataframe tbody tr th {\n",
       "        vertical-align: top;\n",
       "    }\n",
       "\n",
       "    .dataframe thead th {\n",
       "        text-align: right;\n",
       "    }\n",
       "</style>\n",
       "<table border=\"1\" class=\"dataframe\">\n",
       "  <thead>\n",
       "    <tr style=\"text-align: right;\">\n",
       "      <th></th>\n",
       "      <th>count</th>\n",
       "      <th>mean</th>\n",
       "      <th>std</th>\n",
       "      <th>min</th>\n",
       "      <th>25%</th>\n",
       "      <th>50%</th>\n",
       "      <th>75%</th>\n",
       "      <th>max</th>\n",
       "    </tr>\n",
       "    <tr>\n",
       "      <th>imd_band_binned</th>\n",
       "      <th></th>\n",
       "      <th></th>\n",
       "      <th></th>\n",
       "      <th></th>\n",
       "      <th></th>\n",
       "      <th></th>\n",
       "      <th></th>\n",
       "      <th></th>\n",
       "    </tr>\n",
       "  </thead>\n",
       "  <tbody>\n",
       "    <tr>\n",
       "      <th>0-50</th>\n",
       "      <td>5883.0</td>\n",
       "      <td>46.771715</td>\n",
       "      <td>81.108510</td>\n",
       "      <td>-297.0</td>\n",
       "      <td>-1.0</td>\n",
       "      <td>25.0</td>\n",
       "      <td>102.5</td>\n",
       "      <td>444.0</td>\n",
       "    </tr>\n",
       "    <tr>\n",
       "      <th>50-100</th>\n",
       "      <td>3954.0</td>\n",
       "      <td>53.140364</td>\n",
       "      <td>83.766104</td>\n",
       "      <td>-365.0</td>\n",
       "      <td>-2.0</td>\n",
       "      <td>33.0</td>\n",
       "      <td>116.0</td>\n",
       "      <td>242.0</td>\n",
       "    </tr>\n",
       "  </tbody>\n",
       "</table>\n",
       "</div>"
      ],
      "text/plain": [
       "                  count       mean        std    min  25%   50%    75%    max\n",
       "imd_band_binned                                                              \n",
       "0-50             5883.0  46.771715  81.108510 -297.0 -1.0  25.0  102.5  444.0\n",
       "50-100           3954.0  53.140364  83.766104 -365.0 -2.0  33.0  116.0  242.0"
      ]
     },
     "execution_count": 79,
     "metadata": {},
     "output_type": "execute_result"
    }
   ],
   "source": [
    "imd_band_only.groupby('imd_band_binned')['date_unregistration'].describe()"
   ]
  },
  {
   "cell_type": "markdown",
   "metadata": {},
   "source": [
    "## III. Student Submissions and Registrations"
   ]
  },
  {
   "cell_type": "code",
   "execution_count": 80,
   "metadata": {},
   "outputs": [],
   "source": [
    "# renaming the due date column so we don't confuse it with other date(s) when merged.\n",
    "assessments.rename(columns={'date':'asm_due_date'}, inplace=True)\n",
    "\n",
    "# merging studentAssessment data with assessments to look at due dates and the actual dates that the assessments were submitted \n",
    "studentAsmDue = pd.merge(studentAssessment[['id_student','id_assessment','date_submitted']], assessments[['code_module', 'code_presentation', 'id_assessment', 'asm_due_date']], on=['id_assessment'], how='left')\n",
    "\n",
    "# now we want to merge our custom table from above with Registrations to see which assesment belongs to which registration\n",
    "studentAsmDueREG = pd.merge(studentAsmDue, studentRegistration[['id_student', 'code_module', 'code_presentation']], how='right')\n",
    "\n",
    "# if an assessment was submitted at a date greater than the due date (later than the due date), then we want to mark our new 'late?' column as 'N'. If it was submitted before or on the day of, we want to mark 'late?' as 'N'. \n",
    "studentAsmDueREG.loc[studentAsmDueREG['asm_due_date'] < studentAsmDueREG['date_submitted'], 'late?'] = 'Y'\n",
    "studentAsmDueREG.loc[studentAsmDueREG['asm_due_date'] >= studentAsmDueREG['date_submitted'], 'late?'] = 'N'\n",
    "\n",
    "# the data source tells us that there is a composite primary key (id_student, code_module, code_presentation) for the registration data. so to look at each student registration, we group by id_student, code_module and code_presentation. Then we can count the # of 'Y' and 'N' for that registraiton. \n",
    "\n",
    "studentAsmDueREGct = studentAsmDueREG.groupby(['id_student', 'code_module', 'code_presentation'])['late?'].value_counts().reset_index(name=\"count\")"
   ]
  },
  {
   "cell_type": "markdown",
   "metadata": {},
   "source": [
    "#### <font color=blue> Method 1: Write a function to query for specific registration"
   ]
  },
  {
   "cell_type": "markdown",
   "metadata": {},
   "source": [
    "<font color=blue> If we want to do a quick query for each registration (student and course), I wrote a function to calculate the % late submission for each student registration given the student Id and code module."
   ]
  },
  {
   "cell_type": "code",
   "execution_count": 81,
   "metadata": {},
   "outputs": [],
   "source": [
    "def is_late(studentId, code_module, code_presentation):\n",
    "    \n",
    "    '''\n",
    "    studentId: studentId\n",
    "    code_module: the code name of the module\n",
    "    code_presentation: the code name of the presentation\n",
    "    '''\n",
    "    \n",
    "    studentTable = studentAsmDueREGct.loc[\n",
    "        (studentAsmDueREGct['id_student'] == studentId) &\n",
    "        (studentAsmDueREGct['code_module'] == code_module) &\n",
    "        (studentAsmDueREGct['code_presentation'] == code_presentation)]\n",
    "    \n",
    "    if len(studentTable) == 0:\n",
    "        return print(\"Cannot find student registration\")\n",
    "    \n",
    "    elif len(studentTable) == 1: \n",
    "        v = studentTable['late?'].values[0]\n",
    "        if v == 'N':\n",
    "            return 0\n",
    "        else:\n",
    "            return 100\n",
    "        \n",
    "    elif len(studentTable) == 2: \n",
    "        ontime_ct = studentTable[studentTable['late?'] == 'N']['count'].values[0]\n",
    "        late_ct = studentTable[studentTable['late?'] == 'Y']['count'].values[0]\n",
    "        pct_late = late_ct / (ontime_ct + late_ct)\n",
    "        \n",
    "        return round(pct_late * 100, 2)"
   ]
  },
  {
   "cell_type": "code",
   "execution_count": 82,
   "metadata": {},
   "outputs": [
    {
     "data": {
      "text/plain": [
       "80.0"
      ]
     },
     "execution_count": 82,
     "metadata": {},
     "output_type": "execute_result"
    }
   ],
   "source": [
    "# if registration exists and there are late submissions\n",
    "is_late(24734, 'AAA', '2014J')"
   ]
  },
  {
   "cell_type": "code",
   "execution_count": 83,
   "metadata": {},
   "outputs": [
    {
     "data": {
      "text/plain": [
       "40.0"
      ]
     },
     "execution_count": 83,
     "metadata": {},
     "output_type": "execute_result"
    }
   ],
   "source": [
    "# if registration exists and there are late submissions\n",
    "is_late(28400, 'AAA', '2013J')"
   ]
  },
  {
   "cell_type": "code",
   "execution_count": 84,
   "metadata": {},
   "outputs": [
    {
     "data": {
      "text/plain": [
       "0"
      ]
     },
     "execution_count": 84,
     "metadata": {},
     "output_type": "execute_result"
    }
   ],
   "source": [
    "# if registration exists and there aren't any late submissions\n",
    "is_late(2698577, 'BBB', '2014J')"
   ]
  },
  {
   "cell_type": "code",
   "execution_count": 85,
   "metadata": {},
   "outputs": [
    {
     "name": "stdout",
     "output_type": "stream",
     "text": [
      "Cannot find student registration\n"
     ]
    }
   ],
   "source": [
    "# if registration does not exist\n",
    "is_late(29411, 'AAA', '2013J')"
   ]
  },
  {
   "cell_type": "markdown",
   "metadata": {},
   "source": [
    "#### <font color=blue> Method 2: Calculate the percentage of late submissions for each student registration"
   ]
  },
  {
   "cell_type": "markdown",
   "metadata": {},
   "source": [
    "<font color=blue> We can pivot the `studentAsmDueREGctPvt` table we made and calculate the % of late submissions per registration (id_student and code_module). "
   ]
  },
  {
   "cell_type": "code",
   "execution_count": 86,
   "metadata": {},
   "outputs": [],
   "source": [
    "studentAsmDueREGctPvt = pd.pivot_table(studentAsmDueREGct, values='count', index=['id_student', 'code_module', 'code_presentation'], columns=['late?'])"
   ]
  },
  {
   "cell_type": "code",
   "execution_count": 87,
   "metadata": {},
   "outputs": [],
   "source": [
    "# replace all NaNs with zeros since we'll be calculating percentages \n",
    "studentAsmDueREGctPvt = studentAsmDueREGctPvt.fillna(0)"
   ]
  },
  {
   "cell_type": "code",
   "execution_count": 88,
   "metadata": {},
   "outputs": [],
   "source": [
    "# calculate % of late submissions based on total number of submissions \n",
    "Y_ct = studentAsmDueREGctPvt['Y']\n",
    "N_ct = studentAsmDueREGctPvt['N']\n",
    "\n",
    "studentAsmDueREGctPvt['%_Late_Submission'] = round((Y_ct / (N_ct + Y_ct))*100, 2)"
   ]
  },
  {
   "cell_type": "code",
   "execution_count": 89,
   "metadata": {},
   "outputs": [],
   "source": [
    "studentAsmDueREGctPvt.reset_index(inplace=True)"
   ]
  },
  {
   "cell_type": "code",
   "execution_count": 90,
   "metadata": {},
   "outputs": [
    {
     "data": {
      "text/html": [
       "<div>\n",
       "<style scoped>\n",
       "    .dataframe tbody tr th:only-of-type {\n",
       "        vertical-align: middle;\n",
       "    }\n",
       "\n",
       "    .dataframe tbody tr th {\n",
       "        vertical-align: top;\n",
       "    }\n",
       "\n",
       "    .dataframe thead th {\n",
       "        text-align: right;\n",
       "    }\n",
       "</style>\n",
       "<table border=\"1\" class=\"dataframe\">\n",
       "  <thead>\n",
       "    <tr style=\"text-align: right;\">\n",
       "      <th>late?</th>\n",
       "      <th>id_student</th>\n",
       "      <th>code_module</th>\n",
       "      <th>code_presentation</th>\n",
       "      <th>%_Late_Submission</th>\n",
       "    </tr>\n",
       "  </thead>\n",
       "  <tbody>\n",
       "    <tr>\n",
       "      <th>0</th>\n",
       "      <td>6516</td>\n",
       "      <td>AAA</td>\n",
       "      <td>2014J</td>\n",
       "      <td>0.00</td>\n",
       "    </tr>\n",
       "    <tr>\n",
       "      <th>1</th>\n",
       "      <td>8462</td>\n",
       "      <td>DDD</td>\n",
       "      <td>2013J</td>\n",
       "      <td>33.33</td>\n",
       "    </tr>\n",
       "    <tr>\n",
       "      <th>2</th>\n",
       "      <td>8462</td>\n",
       "      <td>DDD</td>\n",
       "      <td>2014J</td>\n",
       "      <td>0.00</td>\n",
       "    </tr>\n",
       "    <tr>\n",
       "      <th>3</th>\n",
       "      <td>11391</td>\n",
       "      <td>AAA</td>\n",
       "      <td>2013J</td>\n",
       "      <td>0.00</td>\n",
       "    </tr>\n",
       "    <tr>\n",
       "      <th>4</th>\n",
       "      <td>23629</td>\n",
       "      <td>BBB</td>\n",
       "      <td>2013B</td>\n",
       "      <td>75.00</td>\n",
       "    </tr>\n",
       "  </tbody>\n",
       "</table>\n",
       "</div>"
      ],
      "text/plain": [
       "late?  id_student code_module code_presentation  %_Late_Submission\n",
       "0            6516         AAA             2014J               0.00\n",
       "1            8462         DDD             2013J              33.33\n",
       "2            8462         DDD             2014J               0.00\n",
       "3           11391         AAA             2013J               0.00\n",
       "4           23629         BBB             2013B              75.00"
      ]
     },
     "execution_count": 90,
     "metadata": {},
     "output_type": "execute_result"
    }
   ],
   "source": [
    "# We can see that it successfully calculated the % of late submissions for EACH registration!\n",
    "studentAsmDueREGctPvt = studentAsmDueREGctPvt[['id_student', 'code_module', 'code_presentation', '%_Late_Submission']]\n",
    "studentAsmDueREGctPvt.head(5)"
   ]
  },
  {
   "cell_type": "code",
   "execution_count": 91,
   "metadata": {},
   "outputs": [
    {
     "data": {
      "text/html": [
       "<div>\n",
       "<style scoped>\n",
       "    .dataframe tbody tr th:only-of-type {\n",
       "        vertical-align: middle;\n",
       "    }\n",
       "\n",
       "    .dataframe tbody tr th {\n",
       "        vertical-align: top;\n",
       "    }\n",
       "\n",
       "    .dataframe thead th {\n",
       "        text-align: right;\n",
       "    }\n",
       "</style>\n",
       "<table border=\"1\" class=\"dataframe\">\n",
       "  <thead>\n",
       "    <tr style=\"text-align: right;\">\n",
       "      <th>late?</th>\n",
       "      <th>id_student</th>\n",
       "      <th>code_module</th>\n",
       "      <th>code_presentation</th>\n",
       "      <th>%_Late_Submission</th>\n",
       "    </tr>\n",
       "  </thead>\n",
       "  <tbody>\n",
       "    <tr>\n",
       "      <th>1</th>\n",
       "      <td>8462</td>\n",
       "      <td>DDD</td>\n",
       "      <td>2013J</td>\n",
       "      <td>33.33</td>\n",
       "    </tr>\n",
       "    <tr>\n",
       "      <th>2</th>\n",
       "      <td>8462</td>\n",
       "      <td>DDD</td>\n",
       "      <td>2014J</td>\n",
       "      <td>0.00</td>\n",
       "    </tr>\n",
       "  </tbody>\n",
       "</table>\n",
       "</div>"
      ],
      "text/plain": [
       "late?  id_student code_module code_presentation  %_Late_Submission\n",
       "1            8462         DDD             2013J              33.33\n",
       "2            8462         DDD             2014J               0.00"
      ]
     },
     "execution_count": 91,
     "metadata": {},
     "output_type": "execute_result"
    }
   ],
   "source": [
    "# checking to see it works\n",
    "studentAsmDueREGctPvt.loc[studentAsmDueREGctPvt['id_student'] == 8462]"
   ]
  },
  {
   "cell_type": "code",
   "execution_count": 92,
   "metadata": {},
   "outputs": [
    {
     "name": "stdout",
     "output_type": "stream",
     "text": [
      "33.33\n",
      "0\n"
     ]
    }
   ],
   "source": [
    "# cross checking with our function\n",
    "print(is_late(8462, 'DDD', '2013J'))\n",
    "print(is_late(8462, 'DDD', '2014J'))"
   ]
  },
  {
   "cell_type": "markdown",
   "metadata": {},
   "source": [
    "## IV. VLE activity types and the total sum clicks per activity type for each student registration."
   ]
  },
  {
   "cell_type": "code",
   "execution_count": 93,
   "metadata": {},
   "outputs": [],
   "source": [
    "studentVLE_REG = pd.merge(studentVLE, studentRegistration, on=['id_student', 'code_module', 'code_presentation'], how='right')\n",
    "\n",
    "studentVLE_REG = pd.merge(studentVLE_REG, vle, on=['id_site', 'code_module', 'code_presentation'])"
   ]
  },
  {
   "cell_type": "code",
   "execution_count": 94,
   "metadata": {},
   "outputs": [
    {
     "data": {
      "text/html": [
       "<div>\n",
       "<style scoped>\n",
       "    .dataframe tbody tr th:only-of-type {\n",
       "        vertical-align: middle;\n",
       "    }\n",
       "\n",
       "    .dataframe tbody tr th {\n",
       "        vertical-align: top;\n",
       "    }\n",
       "\n",
       "    .dataframe thead th {\n",
       "        text-align: right;\n",
       "    }\n",
       "</style>\n",
       "<table border=\"1\" class=\"dataframe\">\n",
       "  <thead>\n",
       "    <tr style=\"text-align: right;\">\n",
       "      <th></th>\n",
       "      <th>id_student</th>\n",
       "      <th>code_module</th>\n",
       "      <th>code_presentation</th>\n",
       "      <th>activity_type</th>\n",
       "      <th>sum_click</th>\n",
       "    </tr>\n",
       "  </thead>\n",
       "  <tbody>\n",
       "    <tr>\n",
       "      <th>0</th>\n",
       "      <td>6516</td>\n",
       "      <td>AAA</td>\n",
       "      <td>2014J</td>\n",
       "      <td>forumng</td>\n",
       "      <td>37.0</td>\n",
       "    </tr>\n",
       "    <tr>\n",
       "      <th>1</th>\n",
       "      <td>6516</td>\n",
       "      <td>AAA</td>\n",
       "      <td>2014J</td>\n",
       "      <td>homepage</td>\n",
       "      <td>44.0</td>\n",
       "    </tr>\n",
       "    <tr>\n",
       "      <th>2</th>\n",
       "      <td>6516</td>\n",
       "      <td>AAA</td>\n",
       "      <td>2014J</td>\n",
       "      <td>oucontent</td>\n",
       "      <td>293.0</td>\n",
       "    </tr>\n",
       "    <tr>\n",
       "      <th>3</th>\n",
       "      <td>6516</td>\n",
       "      <td>AAA</td>\n",
       "      <td>2014J</td>\n",
       "      <td>resource</td>\n",
       "      <td>6.0</td>\n",
       "    </tr>\n",
       "    <tr>\n",
       "      <th>4</th>\n",
       "      <td>6516</td>\n",
       "      <td>AAA</td>\n",
       "      <td>2014J</td>\n",
       "      <td>subpage</td>\n",
       "      <td>10.0</td>\n",
       "    </tr>\n",
       "    <tr>\n",
       "      <th>5</th>\n",
       "      <td>6516</td>\n",
       "      <td>AAA</td>\n",
       "      <td>2014J</td>\n",
       "      <td>url</td>\n",
       "      <td>14.0</td>\n",
       "    </tr>\n",
       "    <tr>\n",
       "      <th>6</th>\n",
       "      <td>8462</td>\n",
       "      <td>DDD</td>\n",
       "      <td>2013J</td>\n",
       "      <td>forumng</td>\n",
       "      <td>6.0</td>\n",
       "    </tr>\n",
       "    <tr>\n",
       "      <th>7</th>\n",
       "      <td>8462</td>\n",
       "      <td>DDD</td>\n",
       "      <td>2013J</td>\n",
       "      <td>homepage</td>\n",
       "      <td>23.0</td>\n",
       "    </tr>\n",
       "    <tr>\n",
       "      <th>8</th>\n",
       "      <td>8462</td>\n",
       "      <td>DDD</td>\n",
       "      <td>2013J</td>\n",
       "      <td>oucontent</td>\n",
       "      <td>2.0</td>\n",
       "    </tr>\n",
       "    <tr>\n",
       "      <th>9</th>\n",
       "      <td>8462</td>\n",
       "      <td>DDD</td>\n",
       "      <td>2013J</td>\n",
       "      <td>ouwiki</td>\n",
       "      <td>11.0</td>\n",
       "    </tr>\n",
       "  </tbody>\n",
       "</table>\n",
       "</div>"
      ],
      "text/plain": [
       "   id_student code_module code_presentation activity_type  sum_click\n",
       "0        6516         AAA             2014J       forumng       37.0\n",
       "1        6516         AAA             2014J      homepage       44.0\n",
       "2        6516         AAA             2014J     oucontent      293.0\n",
       "3        6516         AAA             2014J      resource        6.0\n",
       "4        6516         AAA             2014J       subpage       10.0\n",
       "5        6516         AAA             2014J           url       14.0\n",
       "6        8462         DDD             2013J       forumng        6.0\n",
       "7        8462         DDD             2013J      homepage       23.0\n",
       "8        8462         DDD             2013J     oucontent        2.0\n",
       "9        8462         DDD             2013J        ouwiki       11.0"
      ]
     },
     "execution_count": 94,
     "metadata": {},
     "output_type": "execute_result"
    }
   ],
   "source": [
    "# groupby\n",
    "studentVLE_REG_groupby = studentVLE_REG.groupby(['id_student', 'code_module', 'code_presentation', 'activity_type'])['sum_click'].agg(np.sum).reset_index()\n",
    "\n",
    "studentVLE_REG_groupby.head(10)"
   ]
  },
  {
   "cell_type": "code",
   "execution_count": 95,
   "metadata": {},
   "outputs": [
    {
     "data": {
      "text/plain": [
       "Text(0.5, 1.0, 'Distribution of Activity Types')"
      ]
     },
     "execution_count": 95,
     "metadata": {},
     "output_type": "execute_result"
    },
    {
     "data": {
      "image/png": "[encoded data removed]",
      "text/plain": [
       "<Figure size 432x288 with 1 Axes>"
      ]
     },
     "metadata": {
      "needs_background": "light"
     },
     "output_type": "display_data"
    }
   ],
   "source": [
    "studentVLE_REG_groupby\n",
    "ordering = studentVLE_REG_groupby['activity_type'].value_counts().index\n",
    "\n",
    "at = sns.countplot(x='activity_type', data=studentVLE_REG_groupby, color='navy', order=ordering)\n",
    "at.set_xticklabels(at.get_xticklabels(), rotation=40, ha=\"right\")\n",
    "at.set_title('Distribution of Activity Types')"
   ]
  },
  {
   "cell_type": "code",
   "execution_count": 96,
   "metadata": {},
   "outputs": [
    {
     "data": {
      "text/html": [
       "<div>\n",
       "<style scoped>\n",
       "    .dataframe tbody tr th:only-of-type {\n",
       "        vertical-align: middle;\n",
       "    }\n",
       "\n",
       "    .dataframe tbody tr th {\n",
       "        vertical-align: top;\n",
       "    }\n",
       "\n",
       "    .dataframe thead th {\n",
       "        text-align: right;\n",
       "    }\n",
       "</style>\n",
       "<table border=\"1\" class=\"dataframe\">\n",
       "  <thead>\n",
       "    <tr style=\"text-align: right;\">\n",
       "      <th></th>\n",
       "      <th></th>\n",
       "      <th>activity_type</th>\n",
       "      <th>dataplus</th>\n",
       "      <th>dualpane</th>\n",
       "      <th>externalquiz</th>\n",
       "      <th>folder</th>\n",
       "      <th>forumng</th>\n",
       "      <th>glossary</th>\n",
       "      <th>homepage</th>\n",
       "      <th>htmlactivity</th>\n",
       "      <th>oucollaborate</th>\n",
       "      <th>oucontent</th>\n",
       "      <th>ouelluminate</th>\n",
       "      <th>ouwiki</th>\n",
       "      <th>page</th>\n",
       "      <th>questionnaire</th>\n",
       "      <th>quiz</th>\n",
       "      <th>repeatactivity</th>\n",
       "      <th>resource</th>\n",
       "      <th>sharedsubpage</th>\n",
       "      <th>subpage</th>\n",
       "      <th>url</th>\n",
       "    </tr>\n",
       "    <tr>\n",
       "      <th>id_student</th>\n",
       "      <th>code_module</th>\n",
       "      <th>code_presentation</th>\n",
       "      <th></th>\n",
       "      <th></th>\n",
       "      <th></th>\n",
       "      <th></th>\n",
       "      <th></th>\n",
       "      <th></th>\n",
       "      <th></th>\n",
       "      <th></th>\n",
       "      <th></th>\n",
       "      <th></th>\n",
       "      <th></th>\n",
       "      <th></th>\n",
       "      <th></th>\n",
       "      <th></th>\n",
       "      <th></th>\n",
       "      <th></th>\n",
       "      <th></th>\n",
       "      <th></th>\n",
       "      <th></th>\n",
       "      <th></th>\n",
       "    </tr>\n",
       "  </thead>\n",
       "  <tbody>\n",
       "    <tr>\n",
       "      <th>6516</th>\n",
       "      <th>AAA</th>\n",
       "      <th>2014J</th>\n",
       "      <td>NaN</td>\n",
       "      <td>NaN</td>\n",
       "      <td>NaN</td>\n",
       "      <td>NaN</td>\n",
       "      <td>37.0</td>\n",
       "      <td>NaN</td>\n",
       "      <td>44.0</td>\n",
       "      <td>NaN</td>\n",
       "      <td>NaN</td>\n",
       "      <td>293.0</td>\n",
       "      <td>NaN</td>\n",
       "      <td>NaN</td>\n",
       "      <td>NaN</td>\n",
       "      <td>NaN</td>\n",
       "      <td>NaN</td>\n",
       "      <td>NaN</td>\n",
       "      <td>6.0</td>\n",
       "      <td>NaN</td>\n",
       "      <td>10.0</td>\n",
       "      <td>14.0</td>\n",
       "    </tr>\n",
       "    <tr>\n",
       "      <th>8462</th>\n",
       "      <th>DDD</th>\n",
       "      <th>2013J</th>\n",
       "      <td>NaN</td>\n",
       "      <td>NaN</td>\n",
       "      <td>NaN</td>\n",
       "      <td>NaN</td>\n",
       "      <td>6.0</td>\n",
       "      <td>NaN</td>\n",
       "      <td>23.0</td>\n",
       "      <td>NaN</td>\n",
       "      <td>NaN</td>\n",
       "      <td>2.0</td>\n",
       "      <td>NaN</td>\n",
       "      <td>11.0</td>\n",
       "      <td>NaN</td>\n",
       "      <td>NaN</td>\n",
       "      <td>NaN</td>\n",
       "      <td>NaN</td>\n",
       "      <td>8.0</td>\n",
       "      <td>NaN</td>\n",
       "      <td>33.0</td>\n",
       "      <td>1.0</td>\n",
       "    </tr>\n",
       "    <tr>\n",
       "      <th>11391</th>\n",
       "      <th>AAA</th>\n",
       "      <th>2013J</th>\n",
       "      <td>NaN</td>\n",
       "      <td>NaN</td>\n",
       "      <td>NaN</td>\n",
       "      <td>NaN</td>\n",
       "      <td>18.0</td>\n",
       "      <td>NaN</td>\n",
       "      <td>9.0</td>\n",
       "      <td>NaN</td>\n",
       "      <td>NaN</td>\n",
       "      <td>33.0</td>\n",
       "      <td>NaN</td>\n",
       "      <td>NaN</td>\n",
       "      <td>NaN</td>\n",
       "      <td>NaN</td>\n",
       "      <td>NaN</td>\n",
       "      <td>NaN</td>\n",
       "      <td>2.0</td>\n",
       "      <td>NaN</td>\n",
       "      <td>NaN</td>\n",
       "      <td>3.0</td>\n",
       "    </tr>\n",
       "    <tr>\n",
       "      <th>23629</th>\n",
       "      <th>BBB</th>\n",
       "      <th>2013B</th>\n",
       "      <td>NaN</td>\n",
       "      <td>NaN</td>\n",
       "      <td>NaN</td>\n",
       "      <td>NaN</td>\n",
       "      <td>22.0</td>\n",
       "      <td>NaN</td>\n",
       "      <td>1.0</td>\n",
       "      <td>NaN</td>\n",
       "      <td>NaN</td>\n",
       "      <td>NaN</td>\n",
       "      <td>NaN</td>\n",
       "      <td>NaN</td>\n",
       "      <td>NaN</td>\n",
       "      <td>NaN</td>\n",
       "      <td>9.0</td>\n",
       "      <td>NaN</td>\n",
       "      <td>NaN</td>\n",
       "      <td>NaN</td>\n",
       "      <td>NaN</td>\n",
       "      <td>NaN</td>\n",
       "    </tr>\n",
       "    <tr>\n",
       "      <th>23698</th>\n",
       "      <th>CCC</th>\n",
       "      <th>2014J</th>\n",
       "      <td>NaN</td>\n",
       "      <td>NaN</td>\n",
       "      <td>NaN</td>\n",
       "      <td>NaN</td>\n",
       "      <td>6.0</td>\n",
       "      <td>NaN</td>\n",
       "      <td>10.0</td>\n",
       "      <td>NaN</td>\n",
       "      <td>NaN</td>\n",
       "      <td>NaN</td>\n",
       "      <td>NaN</td>\n",
       "      <td>NaN</td>\n",
       "      <td>NaN</td>\n",
       "      <td>NaN</td>\n",
       "      <td>117.0</td>\n",
       "      <td>NaN</td>\n",
       "      <td>6.0</td>\n",
       "      <td>NaN</td>\n",
       "      <td>9.0</td>\n",
       "      <td>1.0</td>\n",
       "    </tr>\n",
       "    <tr>\n",
       "      <th>23798</th>\n",
       "      <th>BBB</th>\n",
       "      <th>2013J</th>\n",
       "      <td>NaN</td>\n",
       "      <td>NaN</td>\n",
       "      <td>NaN</td>\n",
       "      <td>NaN</td>\n",
       "      <td>8.0</td>\n",
       "      <td>NaN</td>\n",
       "      <td>15.0</td>\n",
       "      <td>NaN</td>\n",
       "      <td>1.0</td>\n",
       "      <td>NaN</td>\n",
       "      <td>NaN</td>\n",
       "      <td>NaN</td>\n",
       "      <td>NaN</td>\n",
       "      <td>NaN</td>\n",
       "      <td>27.0</td>\n",
       "      <td>NaN</td>\n",
       "      <td>2.0</td>\n",
       "      <td>NaN</td>\n",
       "      <td>4.0</td>\n",
       "      <td>8.0</td>\n",
       "    </tr>\n",
       "    <tr>\n",
       "      <th>24186</th>\n",
       "      <th>GGG</th>\n",
       "      <th>2014B</th>\n",
       "      <td>NaN</td>\n",
       "      <td>NaN</td>\n",
       "      <td>NaN</td>\n",
       "      <td>NaN</td>\n",
       "      <td>NaN</td>\n",
       "      <td>NaN</td>\n",
       "      <td>12.0</td>\n",
       "      <td>NaN</td>\n",
       "      <td>NaN</td>\n",
       "      <td>5.0</td>\n",
       "      <td>NaN</td>\n",
       "      <td>NaN</td>\n",
       "      <td>NaN</td>\n",
       "      <td>NaN</td>\n",
       "      <td>NaN</td>\n",
       "      <td>NaN</td>\n",
       "      <td>NaN</td>\n",
       "      <td>NaN</td>\n",
       "      <td>NaN</td>\n",
       "      <td>NaN</td>\n",
       "    </tr>\n",
       "    <tr>\n",
       "      <th>24213</th>\n",
       "      <th>DDD</th>\n",
       "      <th>2014B</th>\n",
       "      <td>NaN</td>\n",
       "      <td>NaN</td>\n",
       "      <td>NaN</td>\n",
       "      <td>NaN</td>\n",
       "      <td>77.0</td>\n",
       "      <td>NaN</td>\n",
       "      <td>23.0</td>\n",
       "      <td>NaN</td>\n",
       "      <td>7.0</td>\n",
       "      <td>68.0</td>\n",
       "      <td>NaN</td>\n",
       "      <td>23.0</td>\n",
       "      <td>NaN</td>\n",
       "      <td>NaN</td>\n",
       "      <td>NaN</td>\n",
       "      <td>NaN</td>\n",
       "      <td>10.0</td>\n",
       "      <td>NaN</td>\n",
       "      <td>45.0</td>\n",
       "      <td>3.0</td>\n",
       "    </tr>\n",
       "    <tr>\n",
       "      <th>24391</th>\n",
       "      <th>GGG</th>\n",
       "      <th>2013J</th>\n",
       "      <td>NaN</td>\n",
       "      <td>NaN</td>\n",
       "      <td>NaN</td>\n",
       "      <td>NaN</td>\n",
       "      <td>7.0</td>\n",
       "      <td>NaN</td>\n",
       "      <td>8.0</td>\n",
       "      <td>NaN</td>\n",
       "      <td>NaN</td>\n",
       "      <td>7.0</td>\n",
       "      <td>NaN</td>\n",
       "      <td>NaN</td>\n",
       "      <td>NaN</td>\n",
       "      <td>NaN</td>\n",
       "      <td>4.0</td>\n",
       "      <td>NaN</td>\n",
       "      <td>1.0</td>\n",
       "      <td>NaN</td>\n",
       "      <td>1.0</td>\n",
       "      <td>NaN</td>\n",
       "    </tr>\n",
       "    <tr>\n",
       "      <th>24734</th>\n",
       "      <th>AAA</th>\n",
       "      <th>2014J</th>\n",
       "      <td>NaN</td>\n",
       "      <td>NaN</td>\n",
       "      <td>NaN</td>\n",
       "      <td>NaN</td>\n",
       "      <td>11.0</td>\n",
       "      <td>NaN</td>\n",
       "      <td>6.0</td>\n",
       "      <td>NaN</td>\n",
       "      <td>NaN</td>\n",
       "      <td>16.0</td>\n",
       "      <td>NaN</td>\n",
       "      <td>NaN</td>\n",
       "      <td>NaN</td>\n",
       "      <td>NaN</td>\n",
       "      <td>NaN</td>\n",
       "      <td>NaN</td>\n",
       "      <td>NaN</td>\n",
       "      <td>NaN</td>\n",
       "      <td>2.0</td>\n",
       "      <td>NaN</td>\n",
       "    </tr>\n",
       "  </tbody>\n",
       "</table>\n",
       "</div>"
      ],
      "text/plain": [
       "activity_type                             dataplus  dualpane  externalquiz  \\\n",
       "id_student code_module code_presentation                                     \n",
       "6516       AAA         2014J                   NaN       NaN           NaN   \n",
       "8462       DDD         2013J                   NaN       NaN           NaN   \n",
       "11391      AAA         2013J                   NaN       NaN           NaN   \n",
       "23629      BBB         2013B                   NaN       NaN           NaN   \n",
       "23698      CCC         2014J                   NaN       NaN           NaN   \n",
       "23798      BBB         2013J                   NaN       NaN           NaN   \n",
       "24186      GGG         2014B                   NaN       NaN           NaN   \n",
       "24213      DDD         2014B                   NaN       NaN           NaN   \n",
       "24391      GGG         2013J                   NaN       NaN           NaN   \n",
       "24734      AAA         2014J                   NaN       NaN           NaN   \n",
       "\n",
       "activity_type                             folder  forumng  glossary  homepage  \\\n",
       "id_student code_module code_presentation                                        \n",
       "6516       AAA         2014J                 NaN     37.0       NaN      44.0   \n",
       "8462       DDD         2013J                 NaN      6.0       NaN      23.0   \n",
       "11391      AAA         2013J                 NaN     18.0       NaN       9.0   \n",
       "23629      BBB         2013B                 NaN     22.0       NaN       1.0   \n",
       "23698      CCC         2014J                 NaN      6.0       NaN      10.0   \n",
       "23798      BBB         2013J                 NaN      8.0       NaN      15.0   \n",
       "24186      GGG         2014B                 NaN      NaN       NaN      12.0   \n",
       "24213      DDD         2014B                 NaN     77.0       NaN      23.0   \n",
       "24391      GGG         2013J                 NaN      7.0       NaN       8.0   \n",
       "24734      AAA         2014J                 NaN     11.0       NaN       6.0   \n",
       "\n",
       "activity_type                             htmlactivity  oucollaborate  \\\n",
       "id_student code_module code_presentation                                \n",
       "6516       AAA         2014J                       NaN            NaN   \n",
       "8462       DDD         2013J                       NaN            NaN   \n",
       "11391      AAA         2013J                       NaN            NaN   \n",
       "23629      BBB         2013B                       NaN            NaN   \n",
       "23698      CCC         2014J                       NaN            NaN   \n",
       "23798      BBB         2013J                       NaN            1.0   \n",
       "24186      GGG         2014B                       NaN            NaN   \n",
       "24213      DDD         2014B                       NaN            7.0   \n",
       "24391      GGG         2013J                       NaN            NaN   \n",
       "24734      AAA         2014J                       NaN            NaN   \n",
       "\n",
       "activity_type                             oucontent  ouelluminate  ouwiki  \\\n",
       "id_student code_module code_presentation                                    \n",
       "6516       AAA         2014J                  293.0           NaN     NaN   \n",
       "8462       DDD         2013J                    2.0           NaN    11.0   \n",
       "11391      AAA         2013J                   33.0           NaN     NaN   \n",
       "23629      BBB         2013B                    NaN           NaN     NaN   \n",
       "23698      CCC         2014J                    NaN           NaN     NaN   \n",
       "23798      BBB         2013J                    NaN           NaN     NaN   \n",
       "24186      GGG         2014B                    5.0           NaN     NaN   \n",
       "24213      DDD         2014B                   68.0           NaN    23.0   \n",
       "24391      GGG         2013J                    7.0           NaN     NaN   \n",
       "24734      AAA         2014J                   16.0           NaN     NaN   \n",
       "\n",
       "activity_type                             page  questionnaire   quiz  \\\n",
       "id_student code_module code_presentation                               \n",
       "6516       AAA         2014J               NaN            NaN    NaN   \n",
       "8462       DDD         2013J               NaN            NaN    NaN   \n",
       "11391      AAA         2013J               NaN            NaN    NaN   \n",
       "23629      BBB         2013B               NaN            NaN    9.0   \n",
       "23698      CCC         2014J               NaN            NaN  117.0   \n",
       "23798      BBB         2013J               NaN            NaN   27.0   \n",
       "24186      GGG         2014B               NaN            NaN    NaN   \n",
       "24213      DDD         2014B               NaN            NaN    NaN   \n",
       "24391      GGG         2013J               NaN            NaN    4.0   \n",
       "24734      AAA         2014J               NaN            NaN    NaN   \n",
       "\n",
       "activity_type                             repeatactivity  resource  \\\n",
       "id_student code_module code_presentation                             \n",
       "6516       AAA         2014J                         NaN       6.0   \n",
       "8462       DDD         2013J                         NaN       8.0   \n",
       "11391      AAA         2013J                         NaN       2.0   \n",
       "23629      BBB         2013B                         NaN       NaN   \n",
       "23698      CCC         2014J                         NaN       6.0   \n",
       "23798      BBB         2013J                         NaN       2.0   \n",
       "24186      GGG         2014B                         NaN       NaN   \n",
       "24213      DDD         2014B                         NaN      10.0   \n",
       "24391      GGG         2013J                         NaN       1.0   \n",
       "24734      AAA         2014J                         NaN       NaN   \n",
       "\n",
       "activity_type                             sharedsubpage  subpage   url  \n",
       "id_student code_module code_presentation                                \n",
       "6516       AAA         2014J                        NaN     10.0  14.0  \n",
       "8462       DDD         2013J                        NaN     33.0   1.0  \n",
       "11391      AAA         2013J                        NaN      NaN   3.0  \n",
       "23629      BBB         2013B                        NaN      NaN   NaN  \n",
       "23698      CCC         2014J                        NaN      9.0   1.0  \n",
       "23798      BBB         2013J                        NaN      4.0   8.0  \n",
       "24186      GGG         2014B                        NaN      NaN   NaN  \n",
       "24213      DDD         2014B                        NaN     45.0   3.0  \n",
       "24391      GGG         2013J                        NaN      1.0   NaN  \n",
       "24734      AAA         2014J                        NaN      2.0   NaN  "
      ]
     },
     "execution_count": 96,
     "metadata": {},
     "output_type": "execute_result"
    }
   ],
   "source": [
    "#pivot table to analyze total sum per activity type for each student registration\n",
    "studentVLE_REG_pivot = pd.pivot_table(studentVLE_REG, values='sum_click', index=['id_student', 'code_module', 'code_presentation'], columns=['activity_type'], aggfunc=np.sum)\n",
    "\n",
    "studentVLE_REG_pivot.head(10)"
   ]
  },
  {
   "cell_type": "code",
   "execution_count": 97,
   "metadata": {},
   "outputs": [
    {
     "data": {
      "text/html": [
       "<div>\n",
       "<style scoped>\n",
       "    .dataframe tbody tr th:only-of-type {\n",
       "        vertical-align: middle;\n",
       "    }\n",
       "\n",
       "    .dataframe tbody tr th {\n",
       "        vertical-align: top;\n",
       "    }\n",
       "\n",
       "    .dataframe thead th {\n",
       "        text-align: right;\n",
       "    }\n",
       "</style>\n",
       "<table border=\"1\" class=\"dataframe\">\n",
       "  <thead>\n",
       "    <tr style=\"text-align: right;\">\n",
       "      <th></th>\n",
       "      <th>activity_type</th>\n",
       "      <th>non-null_count</th>\n",
       "    </tr>\n",
       "  </thead>\n",
       "  <tbody>\n",
       "    <tr>\n",
       "      <th>0</th>\n",
       "      <td>homepage</td>\n",
       "      <td>25090</td>\n",
       "    </tr>\n",
       "    <tr>\n",
       "      <th>1</th>\n",
       "      <td>subpage</td>\n",
       "      <td>23266</td>\n",
       "    </tr>\n",
       "    <tr>\n",
       "      <th>2</th>\n",
       "      <td>forumng</td>\n",
       "      <td>21641</td>\n",
       "    </tr>\n",
       "    <tr>\n",
       "      <th>3</th>\n",
       "      <td>oucontent</td>\n",
       "      <td>21178</td>\n",
       "    </tr>\n",
       "    <tr>\n",
       "      <th>4</th>\n",
       "      <td>resource</td>\n",
       "      <td>20935</td>\n",
       "    </tr>\n",
       "    <tr>\n",
       "      <th>5</th>\n",
       "      <td>quiz</td>\n",
       "      <td>16752</td>\n",
       "    </tr>\n",
       "    <tr>\n",
       "      <th>6</th>\n",
       "      <td>url</td>\n",
       "      <td>14279</td>\n",
       "    </tr>\n",
       "    <tr>\n",
       "      <th>7</th>\n",
       "      <td>ouwiki</td>\n",
       "      <td>6634</td>\n",
       "    </tr>\n",
       "    <tr>\n",
       "      <th>8</th>\n",
       "      <td>oucollaborate</td>\n",
       "      <td>3850</td>\n",
       "    </tr>\n",
       "    <tr>\n",
       "      <th>9</th>\n",
       "      <td>page</td>\n",
       "      <td>3241</td>\n",
       "    </tr>\n",
       "    <tr>\n",
       "      <th>10</th>\n",
       "      <td>externalquiz</td>\n",
       "      <td>2410</td>\n",
       "    </tr>\n",
       "    <tr>\n",
       "      <th>11</th>\n",
       "      <td>questionnaire</td>\n",
       "      <td>2405</td>\n",
       "    </tr>\n",
       "    <tr>\n",
       "      <th>12</th>\n",
       "      <td>glossary</td>\n",
       "      <td>1215</td>\n",
       "    </tr>\n",
       "    <tr>\n",
       "      <th>13</th>\n",
       "      <td>ouelluminate</td>\n",
       "      <td>1160</td>\n",
       "    </tr>\n",
       "    <tr>\n",
       "      <th>14</th>\n",
       "      <td>dataplus</td>\n",
       "      <td>1018</td>\n",
       "    </tr>\n",
       "    <tr>\n",
       "      <th>15</th>\n",
       "      <td>dualpane</td>\n",
       "      <td>875</td>\n",
       "    </tr>\n",
       "    <tr>\n",
       "      <th>16</th>\n",
       "      <td>htmlactivity</td>\n",
       "      <td>586</td>\n",
       "    </tr>\n",
       "    <tr>\n",
       "      <th>17</th>\n",
       "      <td>folder</td>\n",
       "      <td>411</td>\n",
       "    </tr>\n",
       "    <tr>\n",
       "      <th>18</th>\n",
       "      <td>sharedsubpage</td>\n",
       "      <td>16</td>\n",
       "    </tr>\n",
       "    <tr>\n",
       "      <th>19</th>\n",
       "      <td>repeatactivity</td>\n",
       "      <td>1</td>\n",
       "    </tr>\n",
       "  </tbody>\n",
       "</table>\n",
       "</div>"
      ],
      "text/plain": [
       "     activity_type  non-null_count\n",
       "0         homepage           25090\n",
       "1          subpage           23266\n",
       "2          forumng           21641\n",
       "3        oucontent           21178\n",
       "4         resource           20935\n",
       "5             quiz           16752\n",
       "6              url           14279\n",
       "7           ouwiki            6634\n",
       "8    oucollaborate            3850\n",
       "9             page            3241\n",
       "10    externalquiz            2410\n",
       "11   questionnaire            2405\n",
       "12        glossary            1215\n",
       "13    ouelluminate            1160\n",
       "14        dataplus            1018\n",
       "15        dualpane             875\n",
       "16    htmlactivity             586\n",
       "17          folder             411\n",
       "18   sharedsubpage              16\n",
       "19  repeatactivity               1"
      ]
     },
     "execution_count": 97,
     "metadata": {},
     "output_type": "execute_result"
    }
   ],
   "source": [
    "# We see a lot of null values above. Let's do a count of non-null values per activity_type \n",
    "studentVLE_REG_pivot.count().sort_values(ascending=False).reset_index(name='non-null_count')\n"
   ]
  },
  {
   "cell_type": "markdown",
   "metadata": {},
   "source": [
    "<font color=blue> Because we have a lot more data for the top 5 activity types that are between 20000-25000, we could use them as features. "
   ]
  },
  {
   "cell_type": "code",
   "execution_count": 98,
   "metadata": {},
   "outputs": [],
   "source": [
    "studentVLE_REG_pivot.reset_index(inplace=True)\n",
    "\n",
    "feature_cols = ['id_student', 'code_module', 'code_presentation', 'homepage', 'subpage', 'forumng', 'oucontent', 'resource']\n",
    "studentVLE_REG_pivot = studentVLE_REG_pivot[feature_cols]"
   ]
  },
  {
   "cell_type": "markdown",
   "metadata": {},
   "source": [
    "<font color=blue> We can try to fill the null values with zeros. This is because when there's a null that means that particular module did not offer the activity, so we can say zero clicks indicating that it was never used. \n"
   ]
  },
  {
   "cell_type": "code",
   "execution_count": 99,
   "metadata": {},
   "outputs": [
    {
     "data": {
      "text/html": [
       "<div>\n",
       "<style scoped>\n",
       "    .dataframe tbody tr th:only-of-type {\n",
       "        vertical-align: middle;\n",
       "    }\n",
       "\n",
       "    .dataframe tbody tr th {\n",
       "        vertical-align: top;\n",
       "    }\n",
       "\n",
       "    .dataframe thead th {\n",
       "        text-align: right;\n",
       "    }\n",
       "</style>\n",
       "<table border=\"1\" class=\"dataframe\">\n",
       "  <thead>\n",
       "    <tr style=\"text-align: right;\">\n",
       "      <th>activity_type</th>\n",
       "      <th>id_student</th>\n",
       "      <th>code_module</th>\n",
       "      <th>code_presentation</th>\n",
       "      <th>homepage</th>\n",
       "      <th>subpage</th>\n",
       "      <th>forumng</th>\n",
       "      <th>oucontent</th>\n",
       "      <th>resource</th>\n",
       "    </tr>\n",
       "  </thead>\n",
       "  <tbody>\n",
       "    <tr>\n",
       "      <th>0</th>\n",
       "      <td>6516</td>\n",
       "      <td>AAA</td>\n",
       "      <td>2014J</td>\n",
       "      <td>44.0</td>\n",
       "      <td>10.0</td>\n",
       "      <td>37.0</td>\n",
       "      <td>293.0</td>\n",
       "      <td>6.0</td>\n",
       "    </tr>\n",
       "    <tr>\n",
       "      <th>1</th>\n",
       "      <td>8462</td>\n",
       "      <td>DDD</td>\n",
       "      <td>2013J</td>\n",
       "      <td>23.0</td>\n",
       "      <td>33.0</td>\n",
       "      <td>6.0</td>\n",
       "      <td>2.0</td>\n",
       "      <td>8.0</td>\n",
       "    </tr>\n",
       "    <tr>\n",
       "      <th>2</th>\n",
       "      <td>11391</td>\n",
       "      <td>AAA</td>\n",
       "      <td>2013J</td>\n",
       "      <td>9.0</td>\n",
       "      <td>0.0</td>\n",
       "      <td>18.0</td>\n",
       "      <td>33.0</td>\n",
       "      <td>2.0</td>\n",
       "    </tr>\n",
       "    <tr>\n",
       "      <th>3</th>\n",
       "      <td>23629</td>\n",
       "      <td>BBB</td>\n",
       "      <td>2013B</td>\n",
       "      <td>1.0</td>\n",
       "      <td>0.0</td>\n",
       "      <td>22.0</td>\n",
       "      <td>0.0</td>\n",
       "      <td>0.0</td>\n",
       "    </tr>\n",
       "    <tr>\n",
       "      <th>4</th>\n",
       "      <td>23698</td>\n",
       "      <td>CCC</td>\n",
       "      <td>2014J</td>\n",
       "      <td>10.0</td>\n",
       "      <td>9.0</td>\n",
       "      <td>6.0</td>\n",
       "      <td>0.0</td>\n",
       "      <td>6.0</td>\n",
       "    </tr>\n",
       "    <tr>\n",
       "      <th>...</th>\n",
       "      <td>...</td>\n",
       "      <td>...</td>\n",
       "      <td>...</td>\n",
       "      <td>...</td>\n",
       "      <td>...</td>\n",
       "      <td>...</td>\n",
       "      <td>...</td>\n",
       "      <td>...</td>\n",
       "    </tr>\n",
       "    <tr>\n",
       "      <th>28112</th>\n",
       "      <td>2698257</td>\n",
       "      <td>AAA</td>\n",
       "      <td>2013J</td>\n",
       "      <td>13.0</td>\n",
       "      <td>1.0</td>\n",
       "      <td>21.0</td>\n",
       "      <td>39.0</td>\n",
       "      <td>0.0</td>\n",
       "    </tr>\n",
       "    <tr>\n",
       "      <th>28113</th>\n",
       "      <td>2698535</td>\n",
       "      <td>CCC</td>\n",
       "      <td>2014B</td>\n",
       "      <td>15.0</td>\n",
       "      <td>3.0</td>\n",
       "      <td>62.0</td>\n",
       "      <td>0.0</td>\n",
       "      <td>0.0</td>\n",
       "    </tr>\n",
       "    <tr>\n",
       "      <th>28114</th>\n",
       "      <td>2698535</td>\n",
       "      <td>EEE</td>\n",
       "      <td>2013J</td>\n",
       "      <td>47.0</td>\n",
       "      <td>0.0</td>\n",
       "      <td>186.0</td>\n",
       "      <td>142.0</td>\n",
       "      <td>0.0</td>\n",
       "    </tr>\n",
       "    <tr>\n",
       "      <th>28115</th>\n",
       "      <td>2698577</td>\n",
       "      <td>BBB</td>\n",
       "      <td>2014J</td>\n",
       "      <td>4.0</td>\n",
       "      <td>3.0</td>\n",
       "      <td>15.0</td>\n",
       "      <td>18.0</td>\n",
       "      <td>4.0</td>\n",
       "    </tr>\n",
       "    <tr>\n",
       "      <th>28116</th>\n",
       "      <td>2698588</td>\n",
       "      <td>BBB</td>\n",
       "      <td>2014J</td>\n",
       "      <td>5.0</td>\n",
       "      <td>14.0</td>\n",
       "      <td>7.0</td>\n",
       "      <td>28.0</td>\n",
       "      <td>3.0</td>\n",
       "    </tr>\n",
       "  </tbody>\n",
       "</table>\n",
       "<p>28117 rows × 8 columns</p>\n",
       "</div>"
      ],
      "text/plain": [
       "activity_type  id_student code_module code_presentation  homepage  subpage  \\\n",
       "0                    6516         AAA             2014J      44.0     10.0   \n",
       "1                    8462         DDD             2013J      23.0     33.0   \n",
       "2                   11391         AAA             2013J       9.0      0.0   \n",
       "3                   23629         BBB             2013B       1.0      0.0   \n",
       "4                   23698         CCC             2014J      10.0      9.0   \n",
       "...                   ...         ...               ...       ...      ...   \n",
       "28112             2698257         AAA             2013J      13.0      1.0   \n",
       "28113             2698535         CCC             2014B      15.0      3.0   \n",
       "28114             2698535         EEE             2013J      47.0      0.0   \n",
       "28115             2698577         BBB             2014J       4.0      3.0   \n",
       "28116             2698588         BBB             2014J       5.0     14.0   \n",
       "\n",
       "activity_type  forumng  oucontent  resource  \n",
       "0                 37.0      293.0       6.0  \n",
       "1                  6.0        2.0       8.0  \n",
       "2                 18.0       33.0       2.0  \n",
       "3                 22.0        0.0       0.0  \n",
       "4                  6.0        0.0       6.0  \n",
       "...                ...        ...       ...  \n",
       "28112             21.0       39.0       0.0  \n",
       "28113             62.0        0.0       0.0  \n",
       "28114            186.0      142.0       0.0  \n",
       "28115             15.0       18.0       4.0  \n",
       "28116              7.0       28.0       3.0  \n",
       "\n",
       "[28117 rows x 8 columns]"
      ]
     },
     "execution_count": 99,
     "metadata": {},
     "output_type": "execute_result"
    }
   ],
   "source": [
    "\n",
    "for col in studentVLE_REG_pivot.columns[3:]:\n",
    "    studentVLE_REG_pivot[col].fillna(0, inplace=True)\n",
    "\n",
    "studentVLE_REG_pivot"
   ]
  },
  {
   "cell_type": "code",
   "execution_count": 100,
   "metadata": {},
   "outputs": [],
   "source": [
    "studentVLE_REG_pivot.rename(columns={'homepage': 'homepage_totalclicks', 'subpage':'subpage_totalclicks', 'forumng':'forumng_totalclicks', 'oucontent':'outcontent_totalclicks', 'resource':'resource_totalclicks'}, inplace=True)"
   ]
  },
  {
   "cell_type": "markdown",
   "metadata": {},
   "source": [
    "## V. Predictive Analytics"
   ]
  },
  {
   "cell_type": "code",
   "execution_count": 104,
   "metadata": {},
   "outputs": [],
   "source": [
    "# We can merge the studentAssessment table, assessments table and student Info table to get an understanding of how students performed for which assessments and what their backgrounds are. \n",
    "studentAsmInfo = pd.merge(studentInfo, studentAssessmentAvgScore).merge(studentVLE_REG_pivot).merge(studentAsmDueREGctPvt)"
   ]
  },
  {
   "cell_type": "code",
   "execution_count": 105,
   "metadata": {},
   "outputs": [
    {
     "name": "stdout",
     "output_type": "stream",
     "text": [
      "<class 'pandas.core.frame.DataFrame'>\n",
      "Int64Index: 24591 entries, 0 to 24590\n",
      "Data columns (total 19 columns):\n",
      " #   Column                  Non-Null Count  Dtype  \n",
      "---  ------                  --------------  -----  \n",
      " 0   code_module             24591 non-null  object \n",
      " 1   code_presentation       24591 non-null  object \n",
      " 2   id_student              24591 non-null  int64  \n",
      " 3   gender                  24591 non-null  object \n",
      " 4   region                  24591 non-null  object \n",
      " 5   highest_education       24591 non-null  object \n",
      " 6   imd_band                24591 non-null  object \n",
      " 7   age_band                24591 non-null  object \n",
      " 8   num_of_prev_attempts    24591 non-null  int64  \n",
      " 9   studied_credits         24591 non-null  int64  \n",
      " 10  disability              24591 non-null  object \n",
      " 11  final_result            24591 non-null  object \n",
      " 12  average_score           24570 non-null  float64\n",
      " 13  homepage_totalclicks    24591 non-null  float64\n",
      " 14  subpage_totalclicks     24591 non-null  float64\n",
      " 15  forumng_totalclicks     24591 non-null  float64\n",
      " 16  outcontent_totalclicks  24591 non-null  float64\n",
      " 17  resource_totalclicks    24591 non-null  float64\n",
      " 18  %_Late_Submission       24591 non-null  float64\n",
      "dtypes: float64(7), int64(3), object(9)\n",
      "memory usage: 3.8+ MB\n"
     ]
    }
   ],
   "source": [
    "studentAsmInfo.info()"
   ]
  },
  {
   "cell_type": "code",
   "execution_count": 106,
   "metadata": {},
   "outputs": [],
   "source": [
    "# fill nulls\n",
    "studentAsmInfo['average_score'].fillna(studentAsmInfo['average_score'].mean(), inplace=True)"
   ]
  },
  {
   "cell_type": "code",
   "execution_count": 107,
   "metadata": {},
   "outputs": [],
   "source": [
    "# Transform string variables to numerical variables\n",
    "\n",
    "# Final_result\n",
    "PF = {'Pass': 1, 'Fail': 0}\n",
    "studentAsmInfo['final_result'].replace(PF, inplace=True)\n",
    "\n",
    "# Gender\n",
    "Gender = {'M': 0, 'F': 1}\n",
    "studentAsmInfo['gender'].replace(Gender, inplace=True)\n",
    "\n",
    "# Disability\n",
    "Disability = {'N': 0, 'Y': 1}\n",
    "studentAsmInfo['disability'].replace(Disability, inplace=True)\n",
    "\n",
    "# IMD Band\n",
    "imd_band_score = {'0-10%':0, '10-20%':1, '20-30%':2, '30-40%':3, '40-50%':4, '50-60%':5, '60-70%':6, '70-80%':7, '80-90%':8, '90-100%':9}\n",
    "studentAsmInfo['imd_band'].replace(imd_band_score, inplace=True)\n",
    "\n",
    "# Age\n",
    "age_encoding = {'55<=':2, '35-55':1, '0-35':0}\n",
    "studentAsmInfo['age_band'].replace(age_encoding, inplace=True)\n"
   ]
  },
  {
   "cell_type": "code",
   "execution_count": 108,
   "metadata": {},
   "outputs": [
    {
     "data": {
      "text/html": [
       "<div>\n",
       "<style scoped>\n",
       "    .dataframe tbody tr th:only-of-type {\n",
       "        vertical-align: middle;\n",
       "    }\n",
       "\n",
       "    .dataframe tbody tr th {\n",
       "        vertical-align: top;\n",
       "    }\n",
       "\n",
       "    .dataframe thead th {\n",
       "        text-align: right;\n",
       "    }\n",
       "</style>\n",
       "<table border=\"1\" class=\"dataframe\">\n",
       "  <thead>\n",
       "    <tr style=\"text-align: right;\">\n",
       "      <th></th>\n",
       "      <th>homepage_totalclicks</th>\n",
       "      <th>subpage_totalclicks</th>\n",
       "      <th>forumng_totalclicks</th>\n",
       "      <th>outcontent_totalclicks</th>\n",
       "      <th>resource_totalclicks</th>\n",
       "    </tr>\n",
       "  </thead>\n",
       "  <tbody>\n",
       "    <tr>\n",
       "      <th>count</th>\n",
       "      <td>24591.000000</td>\n",
       "      <td>24591.000000</td>\n",
       "      <td>24591.000000</td>\n",
       "      <td>24591.000000</td>\n",
       "      <td>24591.000000</td>\n",
       "    </tr>\n",
       "    <tr>\n",
       "      <th>mean</th>\n",
       "      <td>26.546826</td>\n",
       "      <td>12.789394</td>\n",
       "      <td>30.344476</td>\n",
       "      <td>42.751535</td>\n",
       "      <td>4.075637</td>\n",
       "    </tr>\n",
       "    <tr>\n",
       "      <th>std</th>\n",
       "      <td>35.787581</td>\n",
       "      <td>17.375554</td>\n",
       "      <td>64.107419</td>\n",
       "      <td>75.793524</td>\n",
       "      <td>5.900267</td>\n",
       "    </tr>\n",
       "    <tr>\n",
       "      <th>min</th>\n",
       "      <td>0.000000</td>\n",
       "      <td>0.000000</td>\n",
       "      <td>0.000000</td>\n",
       "      <td>0.000000</td>\n",
       "      <td>0.000000</td>\n",
       "    </tr>\n",
       "    <tr>\n",
       "      <th>25%</th>\n",
       "      <td>6.000000</td>\n",
       "      <td>2.000000</td>\n",
       "      <td>2.000000</td>\n",
       "      <td>1.000000</td>\n",
       "      <td>1.000000</td>\n",
       "    </tr>\n",
       "    <tr>\n",
       "      <th>50%</th>\n",
       "      <td>16.000000</td>\n",
       "      <td>6.000000</td>\n",
       "      <td>11.000000</td>\n",
       "      <td>12.000000</td>\n",
       "      <td>2.000000</td>\n",
       "    </tr>\n",
       "    <tr>\n",
       "      <th>75%</th>\n",
       "      <td>34.000000</td>\n",
       "      <td>17.000000</td>\n",
       "      <td>33.000000</td>\n",
       "      <td>51.000000</td>\n",
       "      <td>5.000000</td>\n",
       "    </tr>\n",
       "    <tr>\n",
       "      <th>max</th>\n",
       "      <td>883.000000</td>\n",
       "      <td>280.000000</td>\n",
       "      <td>1446.000000</td>\n",
       "      <td>2201.000000</td>\n",
       "      <td>304.000000</td>\n",
       "    </tr>\n",
       "  </tbody>\n",
       "</table>\n",
       "</div>"
      ],
      "text/plain": [
       "       homepage_totalclicks  subpage_totalclicks  forumng_totalclicks  \\\n",
       "count          24591.000000         24591.000000         24591.000000   \n",
       "mean              26.546826            12.789394            30.344476   \n",
       "std               35.787581            17.375554            64.107419   \n",
       "min                0.000000             0.000000             0.000000   \n",
       "25%                6.000000             2.000000             2.000000   \n",
       "50%               16.000000             6.000000            11.000000   \n",
       "75%               34.000000            17.000000            33.000000   \n",
       "max              883.000000           280.000000          1446.000000   \n",
       "\n",
       "       outcontent_totalclicks  resource_totalclicks  \n",
       "count            24591.000000          24591.000000  \n",
       "mean                42.751535              4.075637  \n",
       "std                 75.793524              5.900267  \n",
       "min                  0.000000              0.000000  \n",
       "25%                  1.000000              1.000000  \n",
       "50%                 12.000000              2.000000  \n",
       "75%                 51.000000              5.000000  \n",
       "max               2201.000000            304.000000  "
      ]
     },
     "execution_count": 108,
     "metadata": {},
     "output_type": "execute_result"
    }
   ],
   "source": [
    "float_values_clicks = [col for col in studentAsmInfo.columns if 'totalclicks' in col]\n",
    "studentAsmInfo[float_values_clicks].describe()"
   ]
  },
  {
   "cell_type": "code",
   "execution_count": 109,
   "metadata": {},
   "outputs": [],
   "source": [
    "# use minmax scaler to preserve the distribution but it doesnt reduce the effect of data points that are outlires \n",
    "studentAsmInfo[float_values_clicks] = StandardScaler().fit_transform(studentAsmInfo[float_values_clicks])"
   ]
  },
  {
   "cell_type": "code",
   "execution_count": 110,
   "metadata": {},
   "outputs": [
    {
     "data": {
      "text/html": [
       "<div>\n",
       "<style scoped>\n",
       "    .dataframe tbody tr th:only-of-type {\n",
       "        vertical-align: middle;\n",
       "    }\n",
       "\n",
       "    .dataframe tbody tr th {\n",
       "        vertical-align: top;\n",
       "    }\n",
       "\n",
       "    .dataframe thead th {\n",
       "        text-align: right;\n",
       "    }\n",
       "</style>\n",
       "<table border=\"1\" class=\"dataframe\">\n",
       "  <thead>\n",
       "    <tr style=\"text-align: right;\">\n",
       "      <th></th>\n",
       "      <th>homepage_totalclicks</th>\n",
       "      <th>subpage_totalclicks</th>\n",
       "      <th>forumng_totalclicks</th>\n",
       "      <th>outcontent_totalclicks</th>\n",
       "      <th>resource_totalclicks</th>\n",
       "    </tr>\n",
       "  </thead>\n",
       "  <tbody>\n",
       "    <tr>\n",
       "      <th>count</th>\n",
       "      <td>2.459100e+04</td>\n",
       "      <td>2.459100e+04</td>\n",
       "      <td>2.459100e+04</td>\n",
       "      <td>2.459100e+04</td>\n",
       "      <td>2.459100e+04</td>\n",
       "    </tr>\n",
       "    <tr>\n",
       "      <th>mean</th>\n",
       "      <td>4.124995e-16</td>\n",
       "      <td>1.600647e-14</td>\n",
       "      <td>9.173719e-16</td>\n",
       "      <td>-5.798174e-15</td>\n",
       "      <td>3.634689e-15</td>\n",
       "    </tr>\n",
       "    <tr>\n",
       "      <th>std</th>\n",
       "      <td>1.000020e+00</td>\n",
       "      <td>1.000020e+00</td>\n",
       "      <td>1.000020e+00</td>\n",
       "      <td>1.000020e+00</td>\n",
       "      <td>1.000020e+00</td>\n",
       "    </tr>\n",
       "    <tr>\n",
       "      <th>min</th>\n",
       "      <td>-7.418039e-01</td>\n",
       "      <td>-7.360717e-01</td>\n",
       "      <td>-4.733476e-01</td>\n",
       "      <td>-5.640641e-01</td>\n",
       "      <td>-6.907688e-01</td>\n",
       "    </tr>\n",
       "    <tr>\n",
       "      <th>25%</th>\n",
       "      <td>-5.741445e-01</td>\n",
       "      <td>-6.209652e-01</td>\n",
       "      <td>-4.421493e-01</td>\n",
       "      <td>-5.508701e-01</td>\n",
       "      <td>-5.212815e-01</td>\n",
       "    </tr>\n",
       "    <tr>\n",
       "      <th>50%</th>\n",
       "      <td>-2.947123e-01</td>\n",
       "      <td>-3.907520e-01</td>\n",
       "      <td>-3.017571e-01</td>\n",
       "      <td>-4.057360e-01</td>\n",
       "      <td>-3.517942e-01</td>\n",
       "    </tr>\n",
       "    <tr>\n",
       "      <th>75%</th>\n",
       "      <td>2.082657e-01</td>\n",
       "      <td>2.423342e-01</td>\n",
       "      <td>4.142389e-02</td>\n",
       "      <td>1.088303e-01</td>\n",
       "      <td>1.566677e-01</td>\n",
       "    </tr>\n",
       "    <tr>\n",
       "      <th>max</th>\n",
       "      <td>2.393206e+01</td>\n",
       "      <td>1.537885e+01</td>\n",
       "      <td>2.208300e+01</td>\n",
       "      <td>2.847595e+01</td>\n",
       "      <td>5.083337e+01</td>\n",
       "    </tr>\n",
       "  </tbody>\n",
       "</table>\n",
       "</div>"
      ],
      "text/plain": [
       "       homepage_totalclicks  subpage_totalclicks  forumng_totalclicks  \\\n",
       "count          2.459100e+04         2.459100e+04         2.459100e+04   \n",
       "mean           4.124995e-16         1.600647e-14         9.173719e-16   \n",
       "std            1.000020e+00         1.000020e+00         1.000020e+00   \n",
       "min           -7.418039e-01        -7.360717e-01        -4.733476e-01   \n",
       "25%           -5.741445e-01        -6.209652e-01        -4.421493e-01   \n",
       "50%           -2.947123e-01        -3.907520e-01        -3.017571e-01   \n",
       "75%            2.082657e-01         2.423342e-01         4.142389e-02   \n",
       "max            2.393206e+01         1.537885e+01         2.208300e+01   \n",
       "\n",
       "       outcontent_totalclicks  resource_totalclicks  \n",
       "count            2.459100e+04          2.459100e+04  \n",
       "mean            -5.798174e-15          3.634689e-15  \n",
       "std              1.000020e+00          1.000020e+00  \n",
       "min             -5.640641e-01         -6.907688e-01  \n",
       "25%             -5.508701e-01         -5.212815e-01  \n",
       "50%             -4.057360e-01         -3.517942e-01  \n",
       "75%              1.088303e-01          1.566677e-01  \n",
       "max              2.847595e+01          5.083337e+01  "
      ]
     },
     "execution_count": 110,
     "metadata": {},
     "output_type": "execute_result"
    }
   ],
   "source": [
    "studentAsmInfo[float_values_clicks].describe()"
   ]
  },
  {
   "cell_type": "code",
   "execution_count": 111,
   "metadata": {},
   "outputs": [
    {
     "data": {
      "text/plain": [
       "count    24591.000000\n",
       "mean        72.709362\n",
       "std         16.276227\n",
       "min          0.000000\n",
       "25%         64.666667\n",
       "50%         76.000000\n",
       "75%         84.416667\n",
       "max        100.000000\n",
       "Name: average_score, dtype: float64"
      ]
     },
     "execution_count": 111,
     "metadata": {},
     "output_type": "execute_result"
    }
   ],
   "source": [
    "studentAsmInfo['average_score'].describe()"
   ]
  },
  {
   "cell_type": "code",
   "execution_count": 112,
   "metadata": {},
   "outputs": [],
   "source": [
    "studentAsmInfo[['average_score']] = MinMaxScaler().fit_transform(studentAsmInfo[['average_score']])"
   ]
  },
  {
   "cell_type": "code",
   "execution_count": 113,
   "metadata": {},
   "outputs": [
    {
     "data": {
      "text/plain": [
       "count    24591.000000\n",
       "mean        30.788858\n",
       "std         32.910936\n",
       "min          0.000000\n",
       "25%          0.000000\n",
       "50%         20.000000\n",
       "75%         50.000000\n",
       "max        100.000000\n",
       "Name: %_Late_Submission, dtype: float64"
      ]
     },
     "execution_count": 113,
     "metadata": {},
     "output_type": "execute_result"
    }
   ],
   "source": [
    "studentAsmInfo['%_Late_Submission'].describe()"
   ]
  },
  {
   "cell_type": "code",
   "execution_count": 114,
   "metadata": {},
   "outputs": [],
   "source": [
    "studentAsmInfo[['%_Late_Submission']] = MinMaxScaler().fit_transform(studentAsmInfo[['%_Late_Submission']])"
   ]
  },
  {
   "cell_type": "code",
   "execution_count": 115,
   "metadata": {},
   "outputs": [
    {
     "data": {
      "text/plain": [
       "<AxesSubplot:>"
      ]
     },
     "execution_count": 115,
     "metadata": {},
     "output_type": "execute_result"
    },
    {
     "data": {
      "image/png": "[encoded data removed]",
      "text/plain": [
       "<Figure size 432x288 with 2 Axes>"
      ]
     },
     "metadata": {
      "needs_background": "light"
     },
     "output_type": "display_data"
    }
   ],
   "source": [
    "studentAsmInfo_corr = studentAsmInfo.corr()\n",
    "\n",
    "sns.heatmap(studentAsmInfo_corr)"
   ]
  },
  {
   "cell_type": "code",
   "execution_count": 116,
   "metadata": {},
   "outputs": [
    {
     "name": "stdout",
     "output_type": "stream",
     "text": [
      "final_result              1.000000\n",
      "average_score             0.430161\n",
      "homepage_totalclicks      0.303840\n",
      "outcontent_totalclicks    0.265212\n",
      "subpage_totalclicks       0.247612\n",
      "forumng_totalclicks       0.217778\n",
      "resource_totalclicks      0.199027\n",
      "imd_band                  0.110852\n",
      "age_band                  0.062868\n",
      "gender                    0.042037\n",
      "id_student                0.022909\n",
      "disability               -0.061457\n",
      "studied_credits          -0.100337\n",
      "num_of_prev_attempts     -0.112943\n",
      "%_Late_Submission        -0.201470\n",
      "Name: final_result, dtype: float64\n"
     ]
    }
   ],
   "source": [
    "print(studentAsmInfo_corr['final_result'].sort_values(ascending=False))"
   ]
  },
  {
   "cell_type": "markdown",
   "metadata": {},
   "source": [
    "<font color=blue> We want to choose features that are highly correlated with the `final_result`. Setting our threshold at 0.10 for the correlations, we see that `average_score`, different types of `totalclicks` and `imd_band` are the most correlated with `final_result`. <br>\n",
    "    \n",
    "However, we want the features to be not highly correlated with each other to avoid _multicolinearity_ especially because we want to use logistic regression, which assumes that there is no multicolinearity in the features. <br><br>\n",
    "\n",
    "We'll be using `average_score` as a feature for sure as it is a \"top\" feature."
   ]
  },
  {
   "cell_type": "code",
   "execution_count": 117,
   "metadata": {},
   "outputs": [
    {
     "name": "stdout",
     "output_type": "stream",
     "text": [
      "average_score             1.000000\n",
      "final_result              0.430161\n",
      "homepage_totalclicks      0.239137\n",
      "forumng_totalclicks       0.216035\n",
      "outcontent_totalclicks    0.182061\n",
      "subpage_totalclicks       0.163078\n",
      "imd_band                  0.113670\n",
      "resource_totalclicks      0.095141\n",
      "age_band                  0.068458\n",
      "id_student                0.027744\n",
      "gender                    0.014208\n",
      "disability               -0.052888\n",
      "num_of_prev_attempts     -0.069889\n",
      "studied_credits          -0.074247\n",
      "%_Late_Submission        -0.213839\n",
      "Name: average_score, dtype: float64\n"
     ]
    }
   ],
   "source": [
    "print(studentAsmInfo_corr['average_score'].sort_values(ascending=False))"
   ]
  },
  {
   "cell_type": "markdown",
   "metadata": {},
   "source": [
    "<font color=blue> So looking at its correlations with other features, we can choose features with lower correlations. Let's choose `subpage_totalclicks`, and `imd_band`.  "
   ]
  },
  {
   "cell_type": "code",
   "execution_count": 118,
   "metadata": {},
   "outputs": [
    {
     "name": "stdout",
     "output_type": "stream",
     "text": [
      "subpage_totalclicks       1.000000\n",
      "homepage_totalclicks      0.575713\n",
      "outcontent_totalclicks    0.491917\n",
      "resource_totalclicks      0.384919\n",
      "forumng_totalclicks       0.329700\n",
      "final_result              0.247612\n",
      "average_score             0.163078\n",
      "age_band                  0.110197\n",
      "studied_credits           0.073834\n",
      "imd_band                  0.054598\n",
      "id_student                0.044220\n",
      "disability               -0.011696\n",
      "num_of_prev_attempts     -0.025064\n",
      "gender                   -0.144436\n",
      "%_Late_Submission        -0.174348\n",
      "Name: subpage_totalclicks, dtype: float64\n"
     ]
    }
   ],
   "source": [
    "print(studentAsmInfo_corr['subpage_totalclicks'].sort_values(ascending=False))"
   ]
  },
  {
   "cell_type": "code",
   "execution_count": 119,
   "metadata": {},
   "outputs": [
    {
     "name": "stdout",
     "output_type": "stream",
     "text": [
      "imd_band                  1.000000\n",
      "average_score             0.113670\n",
      "final_result              0.110852\n",
      "age_band                  0.071571\n",
      "subpage_totalclicks       0.054598\n",
      "homepage_totalclicks      0.053386\n",
      "forumng_totalclicks       0.042932\n",
      "outcontent_totalclicks    0.038418\n",
      "resource_totalclicks      0.026440\n",
      "id_student                0.025761\n",
      "studied_credits          -0.034787\n",
      "num_of_prev_attempts     -0.044244\n",
      "%_Late_Submission        -0.045779\n",
      "disability               -0.062964\n",
      "gender                   -0.081464\n",
      "Name: imd_band, dtype: float64\n"
     ]
    }
   ],
   "source": [
    "print(studentAsmInfo_corr['imd_band'].sort_values(ascending=False))"
   ]
  },
  {
   "cell_type": "code",
   "execution_count": 120,
   "metadata": {},
   "outputs": [],
   "source": [
    "# Features and target\n",
    "features = ['average_score', 'subpage_totalclicks', 'imd_band']\n",
    "X = studentAsmInfo[features] \n",
    "y = studentAsmInfo.final_result "
   ]
  },
  {
   "cell_type": "code",
   "execution_count": 121,
   "metadata": {},
   "outputs": [
    {
     "data": {
      "text/plain": [
       "<AxesSubplot:xlabel='final_result', ylabel='count'>"
      ]
     },
     "execution_count": 121,
     "metadata": {},
     "output_type": "execute_result"
    },
    {
     "data": {
      "image/png": "[encoded data removed]",
      "text/plain": [
       "<Figure size 432x288 with 1 Axes>"
      ]
     },
     "metadata": {
      "needs_background": "light"
     },
     "output_type": "display_data"
    }
   ],
   "source": [
    "# we end up having a lot more passes than fails. \n",
    "sns.countplot(x=y)"
   ]
  },
  {
   "cell_type": "code",
   "execution_count": 122,
   "metadata": {},
   "outputs": [
    {
     "name": "stdout",
     "output_type": "stream",
     "text": [
      "0:  9945\n",
      "1:  14646\n"
     ]
    }
   ],
   "source": [
    "y_count = studentAsmInfo['final_result'].value_counts()\n",
    "\n",
    "print('0: ', (y_count[0]))\n",
    "print('1: ', (y_count[1]))"
   ]
  },
  {
   "cell_type": "code",
   "execution_count": 123,
   "metadata": {},
   "outputs": [],
   "source": [
    "oversampling = SMOTE(random_state=1)\n",
    "X, y = oversampling.fit_resample(X, y)"
   ]
  },
  {
   "cell_type": "code",
   "execution_count": 124,
   "metadata": {
    "scrolled": true
   },
   "outputs": [
    {
     "name": "stdout",
     "output_type": "stream",
     "text": [
      "0:  14646\n",
      "1:  14646\n"
     ]
    }
   ],
   "source": [
    "y_resampled = y.value_counts()\n",
    "\n",
    "print('0: ', (y_resampled[0]))\n",
    "print('1: ', (y_resampled[1]))"
   ]
  },
  {
   "cell_type": "code",
   "execution_count": 125,
   "metadata": {},
   "outputs": [
    {
     "data": {
      "text/plain": [
       "<AxesSubplot:xlabel='final_result', ylabel='count'>"
      ]
     },
     "execution_count": 125,
     "metadata": {},
     "output_type": "execute_result"
    },
    {
     "data": {
      "image/png": "[encoded data removed]",
      "text/plain": [
       "<Figure size 432x288 with 1 Axes>"
      ]
     },
     "metadata": {
      "needs_background": "light"
     },
     "output_type": "display_data"
    }
   ],
   "source": [
    "sns.countplot(x=y)"
   ]
  },
  {
   "cell_type": "code",
   "execution_count": 126,
   "metadata": {},
   "outputs": [],
   "source": [
    "# 80/20 split\n",
    "X_train, X_test, y_train, y_test = train_test_split(X, y, test_size=0.2, random_state=0)"
   ]
  },
  {
   "cell_type": "code",
   "execution_count": 127,
   "metadata": {},
   "outputs": [],
   "source": [
    "# For our model evaluation strategy, we'll print the confusion matrix, sensitivity, specificity, accuracy, precision and recall. We will also cross-validate (K-Folds).\n",
    "\n",
    "# confusion matrix with other metrics\n",
    "def evaluation(yTest, yPred):\n",
    "    \n",
    "    confusion_matrix = metrics.confusion_matrix(yTest, yPred)\n",
    "\n",
    "    TN = confusion_matrix[0,0]\n",
    "    TP = confusion_matrix[1,1]\n",
    "    FN = confusion_matrix[1,0]\n",
    "    FP = confusion_matrix[0,1]\n",
    "    sensitivity = TP / (TP+FN)\n",
    "    specificity = TN / (TN+FP)\n",
    "\n",
    "    print(\"----------Confusion Matrix----------\")\n",
    "    print(pd.DataFrame(confusion_matrix))\n",
    "\n",
    "    print(\"----------Sensitivity/Specificity----------\")\n",
    "    print(\"Sensitivity: \", sensitivity)\n",
    "    print(\"Specificity: \", specificity)\n",
    "\n",
    "    print(\"----------Classification Report----------\")\n",
    "    print(metrics.classification_report(yTest, yPred))\n",
    "    print(\"Accuracy:\", metrics.accuracy_score(yTest, yPred))\n",
    "    print(\"Precision:\", metrics.precision_score(yTest, yPred))\n",
    "    print(\"Recall:\",metrics.recall_score(yTest, yPred))\n",
    "\n",
    "# cross validation\n",
    "def crossVal(model, xTrain, yTrain):\n",
    "    cv = ShuffleSplit(n_splits=5, test_size=0.2, random_state=0)\n",
    "    cv_scores = cross_val_score(model, xTrain, yTrain, cv=cv, scoring='accuracy')\n",
    "\n",
    "    print(\"----------Cross Validation----------\")\n",
    "    print(cv_scores)\n",
    "    print(\"Average score from CV: \", round(np.mean(cv_scores), 2))\n",
    "    "
   ]
  },
  {
   "cell_type": "code",
   "execution_count": 128,
   "metadata": {},
   "outputs": [
    {
     "name": "stdout",
     "output_type": "stream",
     "text": [
      "----------Confusion Matrix----------\n",
      "      0     1\n",
      "0  1979   954\n",
      "1   827  2099\n",
      "----------Sensitivity/Specificity----------\n",
      "Sensitivity:  0.7173615857826384\n",
      "Specificity:  0.6747357654278895\n",
      "----------Classification Report----------\n",
      "              precision    recall  f1-score   support\n",
      "\n",
      "           0       0.71      0.67      0.69      2933\n",
      "           1       0.69      0.72      0.70      2926\n",
      "\n",
      "    accuracy                           0.70      5859\n",
      "   macro avg       0.70      0.70      0.70      5859\n",
      "weighted avg       0.70      0.70      0.70      5859\n",
      "\n",
      "Accuracy: 0.6960232121522444\n",
      "Precision: 0.6875204716672125\n",
      "Recall: 0.7173615857826384\n",
      "----------Cross Validation----------\n",
      "[0.70300832 0.71751654 0.70108812 0.69554086 0.70236825]\n",
      "Average score from CV:  0.7\n"
     ]
    }
   ],
   "source": [
    "# Creating model - Logistic Regression\n",
    "\n",
    "# model fitting\n",
    "logClassifier = LogisticRegression(random_state=0) \n",
    "logClassifier.fit(X_train, y_train)\n",
    "\n",
    "# prediction\n",
    "y_pred_lc = logClassifier.predict(X_test)\n",
    "\n",
    "# evaluation\n",
    "evaluation(y_test, y_pred_lc)\n",
    "crossVal(logClassifier, X_train, y_train)"
   ]
  },
  {
   "cell_type": "code",
   "execution_count": 129,
   "metadata": {},
   "outputs": [
    {
     "name": "stdout",
     "output_type": "stream",
     "text": [
      "----------Confusion Matrix----------\n",
      "      0     1\n",
      "0  2071   862\n",
      "1  1026  1900\n",
      "----------Sensitivity/Specificity----------\n",
      "Sensitivity:  0.6493506493506493\n",
      "Specificity:  0.7061029662461643\n",
      "----------Classification Report----------\n",
      "              precision    recall  f1-score   support\n",
      "\n",
      "           0       0.67      0.71      0.69      2933\n",
      "           1       0.69      0.65      0.67      2926\n",
      "\n",
      "    accuracy                           0.68      5859\n",
      "   macro avg       0.68      0.68      0.68      5859\n",
      "weighted avg       0.68      0.68      0.68      5859\n",
      "\n",
      "Accuracy: 0.6777607100187746\n",
      "Precision: 0.6879073135409124\n",
      "Recall: 0.6493506493506493\n",
      "----------Cross Validation----------\n",
      "[0.67420525 0.68337956 0.67015148 0.67932579 0.67377854]\n",
      "Average score from CV:  0.68\n"
     ]
    }
   ],
   "source": [
    "# Creating model - Decision Tree Classifier\n",
    "\n",
    "# model fitting\n",
    "dtClassifier = DecisionTreeClassifier(random_state=0)\n",
    "dtClassifier.fit(X_train, y_train)\n",
    "\n",
    "# prediction\n",
    "y_pred_dt = dtClassifier.predict(X_test)\n",
    "\n",
    "# eval and crossval\n",
    "evaluation(y_test, y_pred_dt)\n",
    "crossVal(dtClassifier, X_train, y_train)"
   ]
  },
  {
   "cell_type": "markdown",
   "metadata": {},
   "source": [
    "## Results\n"
   ]
  },
  {
   "cell_type": "markdown",
   "metadata": {},
   "source": [
    "<font color=blue>\n",
    "The goal of the project was to identify students who are at risk of failure. By using the top 3 correlated variables: `average_score`, `subpage_totalclicks` and `imd_band`, we are trying to predict whether a student passed or failed the course. <br>\n",
    "    \n",
    "Because this has a binary outcome (`pass` or `fail`, also known as `1` or `0`), we want to use binary classification. \n",
    "I used logistic regression classification and decision tree classification using the `scikit-learn` library.\n",
    "\n",
    "For <b>logistic regression</b>, we find that the accuracy comes out to be 0.70, cross validated as 0.70. For <b> decision tree classifier</b>, accuracy comes out to be 0.68, cross validated at 0.68. \n",
    "\n",
    "Considering all scores, logisitc regression gives us a better prediction for our use case. This is because the the sensitivity, otherwise known as the ability to predict true positives, is higher at 0.72, compared to the decision tree classifier's sensitivity which is 0.65. The reason why we care about the sensitivty measure is because higher sensitivity means there is a higher percentage of true positives. The model is relatively going to do a good job of detecting true positives. This is important for us because we don't want the model falsely identify that a student will pass, when they're actually going to fail, and miss out on the opportunity to help them. \n",
    "\n",
    "Both models leave room for improvement in terms of achieving higher scores in all areas. During feature selection, we did not see many highly correlated features that could be used. This could be one area of improvement when we add more datasets and engineer more futures. More on this in section v below. "
   ]
  },
  {
   "cell_type": "code",
   "execution_count": 130,
   "metadata": {},
   "outputs": [
    {
     "data": {
      "text/plain": [
       "array([[6.25881433, 0.6861454 , 0.05644072]])"
      ]
     },
     "execution_count": 130,
     "metadata": {},
     "output_type": "execute_result"
    }
   ],
   "source": [
    "logClassifier.coef_"
   ]
  },
  {
   "cell_type": "code",
   "execution_count": 131,
   "metadata": {},
   "outputs": [
    {
     "data": {
      "text/plain": [
       "array([0.61043885, 0.23242475, 0.1571364 ])"
      ]
     },
     "execution_count": 131,
     "metadata": {},
     "output_type": "execute_result"
    }
   ],
   "source": [
    "dtClassifier.feature_importances_"
   ]
  },
  {
   "cell_type": "markdown",
   "metadata": {},
   "source": [
    "<font color=blue> With both logistic regression coefficients and decision tree's gini importance, we see that average score on the exams (`average_score`) is the best indicator of student success based on the features we've used to fit the models. "
   ]
  }
 ],
 "metadata": {
  "kernelspec": {
   "display_name": "Python 3.7.9 64-bit ('base': conda)",
   "language": "python",
   "name": "python37964bitbaseconda2df1232be4864db0ab44e7fc125b4c11"
  },
  "language_info": {
   "codemirror_mode": {
    "name": "ipython",
    "version": 3
   },
   "file_extension": ".py",
   "mimetype": "text/x-python",
   "name": "python",
   "nbconvert_exporter": "python",
   "pygments_lexer": "ipython3",
   "version": "3.7.9"
  }
 },
 "nbformat": 4,
 "nbformat_minor": 4
}
